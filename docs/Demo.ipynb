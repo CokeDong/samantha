{
 "cells": [
  {
   "cell_type": "code",
   "execution_count": 7,
   "metadata": {
    "collapsed": true
   },
   "outputs": [],
   "source": [
    "dataPath = '/opt/samantha/learning/'\n",
    "host = 'http://localhost:9100/movielens-demo/'\n",
    "import requests as req\n",
    "import pandas as pd\n",
    "import numpy as np"
   ]
  },
  {
   "cell_type": "code",
   "execution_count": 3,
   "metadata": {
    "collapsed": false
   },
   "outputs": [],
   "source": [
    "#\"userId\"\t\"movieId\"\t\"rating\"\t\"popularity\"\t\"avgRating\"\t\"releaseYear\"\t\"genres\"\t\"runtime\"\t\"mpaa\"\t\"tstamp\"\t\"wishlist\"\t\"highRated\"\n",
    "#296986\t91658\t\"-1.0\"\t6148\t\"3.8223\"\t\"2011.0\"\t\"Thriller,Crime,Mystery,Drama\"\t\"158.0\"\t\"R\"\t1481909436\"1373,1375,1833,4728,31660,52694,54732,55721,76153,101962,111235,122922,131850,135143,139644,144632,164179,166461,166528\"\t0"
   ]
  },
  {
   "cell_type": "code",
   "execution_count": 84,
   "metadata": {
    "collapsed": false
   },
   "outputs": [
    {
     "data": {
      "text/plain": [
       "'{\"status\":\"success\"}'"
      ]
     },
     "execution_count": 84,
     "metadata": {},
     "output_type": "execute_result"
    }
   ],
   "source": [
    "data = {\n",
    "    'modelName': \"ml-demo-funksvd-predictor-model\",\n",
    "    'modelOperation': 'BUILD',\n",
    "    'predictor': 'ml-demo-funksvd-predictor',\n",
    "    'learningDaoConfig': {\n",
    "        'filePath': dataPath + \"trainRatings.tsv\",\n",
    "        'separator': '\\t',\n",
    "        'entityDaoName': 'CSVFileEntityDAO'\n",
    "    },\n",
    "    'validationDaoConfig': {\n",
    "        'filePath': dataPath + \"validRatings.tsv\",\n",
    "        'separator': '\\t',\n",
    "        'entityDaoName': 'CSVFileEntityDAO'\n",
    "    },\n",
    "    'evaluatorDaoConfig': {\n",
    "        'filePath': dataPath + \"testRatings.tsv\",\n",
    "        'separator': '\\t',\n",
    "        'entityDaoName': 'CSVFileEntityDAO'\n",
    "    }\n",
    "}\n",
    "req.post(host + 'predictor/model', json=data).content"
   ]
  },
  {
   "cell_type": "code",
   "execution_count": 85,
   "metadata": {
    "collapsed": false
   },
   "outputs": [
    {
     "data": {
      "text/plain": [
       "'{\"status\":\"success\"}'"
      ]
     },
     "execution_count": 85,
     "metadata": {},
     "output_type": "execute_result"
    }
   ],
   "source": [
    "data = {\n",
    "    'modelName': \"ml-demo-biglr-predictor-model\",\n",
    "    'modelOperation': 'BUILD',\n",
    "    'predictor': 'ml-demo-biglr-predictor',\n",
    "    'learningDaoConfig': {\n",
    "        'filePath': dataPath + \"trainRatings.tsv\",\n",
    "        'separator': '\\t',\n",
    "        'entityDaoName': 'CSVFileEntityDAO'\n",
    "    },\n",
    "    'validationDaoConfig': {\n",
    "        'filePath': dataPath + \"validRatings.tsv\",\n",
    "        'separator': '\\t',\n",
    "        'entityDaoName': 'CSVFileEntityDAO'\n",
    "    },\n",
    "    'evaluatorDaoConfig': {\n",
    "        'filePath': dataPath + \"testRatings.tsv\",\n",
    "        'separator': '\\t',\n",
    "        'entityDaoName': 'CSVFileEntityDAO'\n",
    "    }\n",
    "}\n",
    "req.post(host + 'predictor/model', json=data).content"
   ]
  },
  {
   "cell_type": "code",
   "execution_count": 86,
   "metadata": {
    "collapsed": false
   },
   "outputs": [
    {
     "data": {
      "text/plain": [
       "'{\"status\":\"success\"}'"
      ]
     },
     "execution_count": 86,
     "metadata": {},
     "output_type": "execute_result"
    }
   ],
   "source": [
    "data = {\n",
    "    'modelName': \"ml-demo-svdfea-predictor-model\",\n",
    "    'modelOperation': 'BUILD',\n",
    "    'predictor': 'ml-demo-svdfea-predictor',\n",
    "    'learningDaoConfig': {\n",
    "        'filePath': dataPath + \"trainRatings.tsv\",\n",
    "        'separator': '\\t',\n",
    "        'entityDaoName': 'CSVFileEntityDAO'\n",
    "    },\n",
    "    'validationDaoConfig': {\n",
    "        'filePath': dataPath + \"validRatings.tsv\",\n",
    "        'separator': '\\t',\n",
    "        'entityDaoName': 'CSVFileEntityDAO'\n",
    "    },\n",
    "    'evaluatorDaoConfig': {\n",
    "        'filePath': dataPath + \"testRatings.tsv\",\n",
    "        'separator': '\\t',\n",
    "        'entityDaoName': 'CSVFileEntityDAO'\n",
    "    }\n",
    "}\n",
    "req.post(host + 'predictor/model', json=data).content"
   ]
  },
  {
   "cell_type": "code",
   "execution_count": 87,
   "metadata": {
    "collapsed": false
   },
   "outputs": [
    {
     "data": {
      "text/plain": [
       "'{\"status\":\"success\"}'"
      ]
     },
     "execution_count": 87,
     "metadata": {},
     "output_type": "execute_result"
    }
   ],
   "source": [
    "data = {\n",
    "    'modelName': \"ml-demo-svdfea-wishlist-predictor-model\",\n",
    "    'modelOperation': 'BUILD',\n",
    "    'predictor': 'ml-demo-svdfea-wishlist-predictor',\n",
    "    'learningDaoConfig': {\n",
    "        'filePath': dataPath + \"trainRatings.tsv\",\n",
    "        'separator': '\\t',\n",
    "        'entityDaoName': 'CSVFileEntityDAO'\n",
    "    },\n",
    "    'validationDaoConfig': {\n",
    "        'filePath': dataPath + \"validRatings.tsv\",\n",
    "        'separator': '\\t',\n",
    "        'entityDaoName': 'CSVFileEntityDAO'\n",
    "    },\n",
    "    'evaluatorDaoConfig': {\n",
    "        'filePath': dataPath + \"testRatings.tsv\",\n",
    "        'separator': '\\t',\n",
    "        'entityDaoName': 'CSVFileEntityDAO'\n",
    "    }\n",
    "}\n",
    "req.post(host + 'predictor/model', json=data).content"
   ]
  },
  {
   "cell_type": "code",
   "execution_count": 88,
   "metadata": {
    "collapsed": false
   },
   "outputs": [
    {
     "data": {
      "text/plain": [
       "'{\"status\":\"success\"}'"
      ]
     },
     "execution_count": 88,
     "metadata": {},
     "output_type": "execute_result"
    }
   ],
   "source": [
    "data = {\n",
    "    'indexer': 'movieData',\n",
    "    'daoConfig': {\n",
    "        'filePath': dataPath + \"trainRatings.tsv\",\n",
    "        'separator': '\\t',\n",
    "        'entityDaoName': 'CSVFileEntityDAO'\n",
    "    }\n",
    "}\n",
    "req.post(host + 'index/data', json=data).content"
   ]
  },
  {
   "cell_type": "code",
   "execution_count": 89,
   "metadata": {
    "collapsed": false
   },
   "outputs": [
    {
     "data": {
      "text/plain": [
       "'{\"status\":\"success\"}'"
      ]
     },
     "execution_count": 89,
     "metadata": {},
     "output_type": "execute_result"
    }
   ],
   "source": [
    "data = {\n",
    "    'indexer': 'userMovieRating',\n",
    "    'daoConfig': {\n",
    "        'filePath': dataPath + \"movieRatings.tsv\",\n",
    "        'separator': '\\t',\n",
    "        'entityDaoName': 'CSVFileEntityDAO'\n",
    "    }\n",
    "}\n",
    "req.post(host + 'index/data', json=data).content"
   ]
  },
  {
   "cell_type": "code",
   "execution_count": 90,
   "metadata": {
    "collapsed": false
   },
   "outputs": [
    {
     "data": {
      "text/plain": [
       "'{\"status\":\"success\"}'"
      ]
     },
     "execution_count": 90,
     "metadata": {},
     "output_type": "execute_result"
    }
   ],
   "source": [
    "data = {\n",
    "    'modelName': \"ml-demo-funksvd-predictor-model\",\n",
    "    'modelOperation': 'BUILD',\n",
    "    'predictor': 'ml-demo-funksvd-predictor',\n",
    "    'learningDaoConfig': {\n",
    "        'entityDaoName': 'IndexerBasedDAO',\n",
    "        'indexerName': 'userMovieRating',\n",
    "        'requestContext': {\n",
    "            'beginTime': 'now - 365 DAYS',\n",
    "            'endTime': 'now - 30 DAYS'\n",
    "        }\n",
    "    },\n",
    "    'validationDaoConfig': {\n",
    "        'entityDaoName': 'IndexerBasedDAO',\n",
    "        'indexerName': 'userMovieRating',\n",
    "        'requestContext': {\n",
    "            'beginTime': 'now - 7 DAYS',\n",
    "            'endTime': 'now - 0 DAYS'\n",
    "        }\n",
    "    },\n",
    "    'evaluatorDaoConfig': {\n",
    "        'entityDaoName': 'IndexerBasedDAO',\n",
    "        'indexerName': 'userMovieRating',\n",
    "        'requestContext': {\n",
    "            'beginTime': 'now - 7 DAYS',\n",
    "            'endTime': 'now - 0 DAYS'\n",
    "        }\n",
    "    }\n",
    "}\n",
    "req.post(host + 'predictor/model', json=data).content"
   ]
  },
  {
   "cell_type": "code",
   "execution_count": 91,
   "metadata": {
    "collapsed": false
   },
   "outputs": [
    {
     "data": {
      "text/plain": [
       "'{\"status\":\"success\",\"data\":{\"metrics\":[{\"values\":[{\"metricName\":\"MAE\",\"metricPara\":{\"N\":126844},\"metricValue\":1.1555003637917123,\"engine\":\"movielens-demo\",\"config\":{\"name\":\"ml-demo-svdfea-predictor\"},\"requestContext\":\"{\\\\\"evaluator\\\\\":\\\\\"RealPredictionEvaluator\\\\\",\\\\\"predictor\\\\\":\\\\\"ml-demo-svdfea-predictor\\\\\",\\\\\"evaluatorDaoConfig\\\\\":{\\\\\"entityDaoName\\\\\":\\\\\"IndexerBasedDAO\\\\\",\\\\\"indexerName\\\\\":\\\\\"userMovieRating\\\\\",\\\\\"requestContext\\\\\":{\\\\\"endTime\\\\\":\\\\\"now - 0 DAYS\\\\\",\\\\\"beginTime\\\\\":\\\\\"now - 30 DAYS\\\\\"}}}\"}],\"pass\":true},{\"values\":[{\"metricName\":\"RMSE\",\"metricPara\":{\"N\":126844},\"metricValue\":1.67084742902736,\"engine\":\"movielens-demo\",\"config\":{\"name\":\"ml-demo-svdfea-predictor\"},\"requestContext\":\"{\\\\\"evaluator\\\\\":\\\\\"RealPredictionEvaluator\\\\\",\\\\\"predictor\\\\\":\\\\\"ml-demo-svdfea-predictor\\\\\",\\\\\"evaluatorDaoConfig\\\\\":{\\\\\"entityDaoName\\\\\":\\\\\"IndexerBasedDAO\\\\\",\\\\\"indexerName\\\\\":\\\\\"userMovieRating\\\\\",\\\\\"requestContext\\\\\":{\\\\\"endTime\\\\\":\\\\\"now - 0 DAYS\\\\\",\\\\\"beginTime\\\\\":\\\\\"now - 30 DAYS\\\\\"}}}\"}],\"pass\":true}],\"pass\":true}}'"
      ]
     },
     "execution_count": 91,
     "metadata": {},
     "output_type": "execute_result"
    }
   ],
   "source": [
    "data = {\n",
    "    'evaluator': 'RealPredictionEvaluator',\n",
    "    'predictor': 'ml-demo-svdfea-predictor',\n",
    "    'evaluatorDaoConfig': {\n",
    "        'entityDaoName': 'IndexerBasedDAO',\n",
    "        'indexerName': 'userMovieRating',\n",
    "        'requestContext': {\n",
    "            'beginTime': 'now - 30 DAYS',\n",
    "            'endTime': 'now - 0 DAYS'\n",
    "        }\n",
    "    }\n",
    "}\n",
    "req.post(host + 'evaluate', json=data).content"
   ]
  },
  {
   "cell_type": "code",
   "execution_count": 92,
   "metadata": {
    "collapsed": false
   },
   "outputs": [
    {
     "data": {
      "text/plain": [
       "'{\"status\":\"success\"}'"
      ]
     },
     "execution_count": 92,
     "metadata": {},
     "output_type": "execute_result"
    }
   ],
   "source": [
    "data = {\n",
    "    'modelName': \"ml-demo-svdfea-map-predictor-model\",\n",
    "    'modelOperation': 'BUILD',\n",
    "    'predictor': 'ml-demo-svdfea-map-predictor',\n",
    "    'recommender': 'ml-demo-svdfea-map-recommender',\n",
    "    'learningDaoConfig': {\n",
    "        'entityDaoName': 'IndexerBasedDAO',\n",
    "        'indexerName': 'groupedUserMovieRating',\n",
    "        'requestContext': {\n",
    "            'beginTime': 'now - 365 DAYS',\n",
    "            'endTime': 'now - 30 DAYS'\n",
    "        }\n",
    "    },\n",
    "    'validationDaoConfig': {\n",
    "        'entityDaoName': 'IndexerBasedDAO',\n",
    "        'indexerName': 'groupedUserMovieRating',\n",
    "        'requestContext': {\n",
    "            'beginTime': 'now - 7 DAYS',\n",
    "            'endTime': 'now - 0 DAYS'\n",
    "        }\n",
    "    },\n",
    "    'evaluatorDaoConfig': {\n",
    "        'entityDaoName': 'IndexerBasedDAO',\n",
    "        'indexerName': 'groupedUserMovieRating',\n",
    "        'requestContext': {\n",
    "            'beginTime': 'now - 7 DAYS',\n",
    "            'endTime': 'now - 0 DAYS'\n",
    "        }\n",
    "    }\n",
    "}\n",
    "req.post(host + 'predictor/model', json=data).content"
   ]
  },
  {
   "cell_type": "code",
   "execution_count": 93,
   "metadata": {
    "collapsed": false
   },
   "outputs": [
    {
     "data": {
      "text/plain": [
       "'{\"status\":\"success\"}'"
      ]
     },
     "execution_count": 93,
     "metadata": {},
     "output_type": "execute_result"
    }
   ],
   "source": [
    "data = {\n",
    "    'modelName': \"ml-demo-xgboost-predictor-model\",\n",
    "    'modelOperation': 'BUILD',\n",
    "    'predictor': 'ml-demo-xgboost-predictor',\n",
    "    'learningDaoConfig': {\n",
    "        'filePath': dataPath + \"trainRatings.tsv\",\n",
    "        'separator': '\\t',\n",
    "        'entityDaoName': 'CSVFileEntityDAO'\n",
    "    },\n",
    "    'validationDaoConfig': {\n",
    "        'filePath': dataPath + \"validRatings.tsv\",\n",
    "        'separator': '\\t',\n",
    "        'entityDaoName': 'CSVFileEntityDAO'\n",
    "    },\n",
    "    'evaluatorDaoConfig': {\n",
    "        'filePath': dataPath + \"testRatings.tsv\",\n",
    "        'separator': '\\t',\n",
    "        'entityDaoName': 'CSVFileEntityDAO'\n",
    "    }\n",
    "}\n",
    "req.post(host + 'predictor/model', json=data).content"
   ]
  },
  {
   "cell_type": "code",
   "execution_count": 94,
   "metadata": {
    "collapsed": false
   },
   "outputs": [
    {
     "data": {
      "text/plain": [
       "'{\"status\":\"success\",\"data\":{\"metrics\":[{\"values\":[{\"metricName\":\"MAE\",\"metricPara\":{\"N\":20000},\"metricValue\":1.3575798936486245,\"engine\":\"movielens-demo\",\"config\":{\"name\":\"ml-demo-xgboost-predictor\"},\"requestContext\":\"{\\\\\"evaluator\\\\\":\\\\\"RealPredictionEvaluator\\\\\",\\\\\"predictor\\\\\":\\\\\"ml-demo-xgboost-predictor\\\\\",\\\\\"evaluatorDaoConfig\\\\\":{\\\\\"entityDaoName\\\\\":\\\\\"CSVFileEntityDAO\\\\\",\\\\\"separator\\\\\":\\\\\"\\\\\\\\t\\\\\",\\\\\"filePath\\\\\":\\\\\"/opt/samantha/learning/testRatings.tsv\\\\\"}}\"}],\"pass\":true},{\"values\":[{\"metricName\":\"RMSE\",\"metricPara\":{\"N\":20000},\"metricValue\":1.9413986393318747,\"engine\":\"movielens-demo\",\"config\":{\"name\":\"ml-demo-xgboost-predictor\"},\"requestContext\":\"{\\\\\"evaluator\\\\\":\\\\\"RealPredictionEvaluator\\\\\",\\\\\"predictor\\\\\":\\\\\"ml-demo-xgboost-predictor\\\\\",\\\\\"evaluatorDaoConfig\\\\\":{\\\\\"entityDaoName\\\\\":\\\\\"CSVFileEntityDAO\\\\\",\\\\\"separator\\\\\":\\\\\"\\\\\\\\t\\\\\",\\\\\"filePath\\\\\":\\\\\"/opt/samantha/learning/testRatings.tsv\\\\\"}}\"}],\"pass\":true}],\"pass\":true}}'"
      ]
     },
     "execution_count": 94,
     "metadata": {},
     "output_type": "execute_result"
    }
   ],
   "source": [
    "data = {\n",
    "    'evaluator': 'RealPredictionEvaluator',\n",
    "    'predictor': 'ml-demo-xgboost-predictor',\n",
    "    'evaluatorDaoConfig': {\n",
    "        'filePath': dataPath + \"testRatings.tsv\",\n",
    "        'separator': '\\t',\n",
    "        'entityDaoName': 'CSVFileEntityDAO'\n",
    "    }\n",
    "}\n",
    "req.post(host + 'evaluate', json=data).content"
   ]
  },
  {
   "cell_type": "code",
   "execution_count": 95,
   "metadata": {
    "collapsed": false
   },
   "outputs": [
    {
     "data": {
      "text/plain": [
       "'{\"status\":\"success\"}'"
      ]
     },
     "execution_count": 95,
     "metadata": {},
     "output_type": "execute_result"
    }
   ],
   "source": [
    "data = {\n",
    "    'modelName': \"ml-demo-xgboost-ensemble-predictor-model\",\n",
    "    'modelOperation': 'BUILD',\n",
    "    'predictor': 'ml-demo-xgboost-ensemble-predictor',\n",
    "    'learningDaoConfig': {\n",
    "        'filePath': dataPath + \"trainRatings.tsv\",\n",
    "        'separator': '\\t',\n",
    "        'entityDaoName': 'CSVFileEntityDAO'\n",
    "    },\n",
    "    'validationDaoConfig': {\n",
    "        'filePath': dataPath + \"validRatings.tsv\",\n",
    "        'separator': '\\t',\n",
    "        'entityDaoName': 'CSVFileEntityDAO'\n",
    "    },\n",
    "    'evaluatorDaoConfig': {\n",
    "        'filePath': dataPath + \"testRatings.tsv\",\n",
    "        'separator': '\\t',\n",
    "        'entityDaoName': 'CSVFileEntityDAO'\n",
    "    }\n",
    "}\n",
    "req.post(host + 'predictor/model', json=data).content"
   ]
  },
  {
   "cell_type": "code",
   "execution_count": 96,
   "metadata": {
    "collapsed": false
   },
   "outputs": [
    {
     "data": {
      "text/plain": [
       "'{\"status\":\"success\",\"data\":{\"metrics\":[{\"values\":[{\"metricName\":\"MAE\",\"metricPara\":{\"N\":20000},\"metricValue\":1.3511630596578121,\"engine\":\"movielens-demo\",\"config\":{\"name\":\"ml-demo-xgboost-ensemble-predictor\"},\"requestContext\":\"{\\\\\"evaluator\\\\\":\\\\\"RealPredictionEvaluator\\\\\",\\\\\"predictor\\\\\":\\\\\"ml-demo-xgboost-ensemble-predictor\\\\\",\\\\\"evaluatorDaoConfig\\\\\":{\\\\\"entityDaoName\\\\\":\\\\\"CSVFileEntityDAO\\\\\",\\\\\"separator\\\\\":\\\\\"\\\\\\\\t\\\\\",\\\\\"filePath\\\\\":\\\\\"/opt/samantha/learning/testRatings.tsv\\\\\"}}\"}],\"pass\":true},{\"values\":[{\"metricName\":\"RMSE\",\"metricPara\":{\"N\":20000},\"metricValue\":2.009185673804714,\"engine\":\"movielens-demo\",\"config\":{\"name\":\"ml-demo-xgboost-ensemble-predictor\"},\"requestContext\":\"{\\\\\"evaluator\\\\\":\\\\\"RealPredictionEvaluator\\\\\",\\\\\"predictor\\\\\":\\\\\"ml-demo-xgboost-ensemble-predictor\\\\\",\\\\\"evaluatorDaoConfig\\\\\":{\\\\\"entityDaoName\\\\\":\\\\\"CSVFileEntityDAO\\\\\",\\\\\"separator\\\\\":\\\\\"\\\\\\\\t\\\\\",\\\\\"filePath\\\\\":\\\\\"/opt/samantha/learning/testRatings.tsv\\\\\"}}\"}],\"pass\":true}],\"pass\":true}}'"
      ]
     },
     "execution_count": 96,
     "metadata": {},
     "output_type": "execute_result"
    }
   ],
   "source": [
    "data = {\n",
    "    'evaluator': 'RealPredictionEvaluator',\n",
    "    'predictor': 'ml-demo-xgboost-ensemble-predictor',\n",
    "    'evaluatorDaoConfig': {\n",
    "        'filePath': dataPath + \"testRatings.tsv\",\n",
    "        'separator': '\\t',\n",
    "        'entityDaoName': 'CSVFileEntityDAO'\n",
    "    }\n",
    "}\n",
    "req.post(host + 'evaluate', json=data).content"
   ]
  },
  {
   "cell_type": "code",
   "execution_count": 97,
   "metadata": {
    "collapsed": false
   },
   "outputs": [
    {
     "data": {
      "text/plain": [
       "'{\"status\":\"success\"}'"
      ]
     },
     "execution_count": 97,
     "metadata": {},
     "output_type": "execute_result"
    }
   ],
   "source": [
    "data = {\n",
    "    'modelName': \"ml-demo-item-knn-model\",\n",
    "    'modelOperation': 'BUILD',\n",
    "    'retriever': 'RedisMovieRetriever',\n",
    "}\n",
    "req.post(host + 'retriever/model', json=data).content"
   ]
  },
  {
   "cell_type": "code",
   "execution_count": 98,
   "metadata": {
    "collapsed": false
   },
   "outputs": [
    {
     "data": {
      "text/plain": [
       "'{\"status\":\"success\",\"data\":{\"recommendations\":{\"limit\":24,\"offset\":0,\"maxHits\":2750,\"ranking\":[{\"score\":2.6674166775718966,\"attributes\":{\"support\":396.0,\"movieId\":\"162376\"},\"instance\":\"rO0ABXNyADxvcmcuZ3JvdXBsZW5zLnNhbWFudGhhLm1vZGVsZXIuc3ZkZmVhdHVyZS5TVkRGZWF0dXJlSW5zdGFuY2UAAAAAAAAAAQIABUQABWxhYmVsRAAGd2VpZ2h0TAAFZ2ZlYXN0ABBMamF2YS91dGlsL0xpc3Q7TAAFaWZlYXNxAH4AAUwABXVmZWFzcQB+AAF4cgBCb3JnLmdyb3VwbGVucy5zYW1hbnRoYS5tb2RlbGVyLmZlYXR1cml6ZXIuQWJzdHJhY3RMZWFybmluZ0luc3RhbmNlHJRin5RSUkgCAAFMAAVncm91cHQAEkxqYXZhL2xhbmcvU3RyaW5nO3hwcAAAAAAAAAAAP/AAAAAAAABzcgATamF2YS51dGlsLkFycmF5TGlzdHiB0h2Zx2GdAwABSQAEc2l6ZXhwAAAAAncEAAAAAnNyADFvcmcuZ3JvdXBsZW5zLnNhbWFudGhhLm1vZGVsZXIuZmVhdHVyaXplci5GZWF0dXJlqBau7Pp4F/YCAAJJAAVpbmRleEQABXZhbHVleHAAAAAAP/AAAAAAAABzcQB+AAcAAAC9P/AAAAAAAAB4c3EAfgAFAAAAAXcEAAAAAXNxAH4ABwAAALs/8AAAAAAAAHhzcQB+AAUAAAAAdwQAAAAAeA==\"},{\"score\":2.522547953695823,\"attributes\":{\"support\":826.0,\"movieId\":\"7153\"},\"instance\":\"rO0ABXNyADxvcmcuZ3JvdXBsZW5zLnNhbWFudGhhLm1vZGVsZXIuc3ZkZmVhdHVyZS5TVkRGZWF0dXJlSW5zdGFuY2UAAAAAAAAAAQIABUQABWxhYmVsRAAGd2VpZ2h0TAAFZ2ZlYXN0ABBMamF2YS91dGlsL0xpc3Q7TAAFaWZlYXNxAH4AAUwABXVmZWFzcQB+AAF4cgBCb3JnLmdyb3VwbGVucy5zYW1hbnRoYS5tb2RlbGVyLmZlYXR1cml6ZXIuQWJzdHJhY3RMZWFybmluZ0luc3RhbmNlHJRin5RSUkgCAAFMAAVncm91cHQAEkxqYXZhL2xhbmcvU3RyaW5nO3hwcAAAAAAAAAAAP/AAAAAAAABzcgATamF2YS51dGlsLkFycmF5TGlzdHiB0h2Zx2GdAwABSQAEc2l6ZXhwAAAAAncEAAAAAnNyADFvcmcuZ3JvdXBsZW5zLnNhbWFudGhhLm1vZGVsZXIuZmVhdHVyaXplci5GZWF0dXJlqBau7Pp4F/YCAAJJAAVpbmRleEQABXZhbHVleHAAAAAAP/AAAAAAAABzcQB+AAcAAAHVP/AAAAAAAAB4c3EAfgAFAAAAAXcEAAAAAXNxAH4ABwAAAc8/8AAAAAAAAHhzcQB+AAUAAAAAdwQAAAAAeA==\"},{\"score\":2.4942285746336643,\"attributes\":{\"support\":940.0,\"movieId\":\"79132\"},\"instance\":\"rO0ABXNyADxvcmcuZ3JvdXBsZW5zLnNhbWFudGhhLm1vZGVsZXIuc3ZkZmVhdHVyZS5TVkRGZWF0dXJlSW5zdGFuY2UAAAAAAAAAAQIABUQABWxhYmVsRAAGd2VpZ2h0TAAFZ2ZlYXN0ABBMamF2YS91dGlsL0xpc3Q7TAAFaWZlYXNxAH4AAUwABXVmZWFzcQB+AAF4cgBCb3JnLmdyb3VwbGVucy5zYW1hbnRoYS5tb2RlbGVyLmZlYXR1cml6ZXIuQWJzdHJhY3RMZWFybmluZ0luc3RhbmNlHJRin5RSUkgCAAFMAAVncm91cHQAEkxqYXZhL2xhbmcvU3RyaW5nO3hwcAAAAAAAAAAAP/AAAAAAAABzcgATamF2YS51dGlsLkFycmF5TGlzdHiB0h2Zx2GdAwABSQAEc2l6ZXhwAAAAAncEAAAAAnNyADFvcmcuZ3JvdXBsZW5zLnNhbWFudGhhLm1vZGVsZXIuZmVhdHVyaXplci5GZWF0dXJlqBau7Pp4F/YCAAJJAAVpbmRleEQABXZhbHVleHAAAAAAP/AAAAAAAABzcQB+AAcAAAEGP/AAAAAAAAB4c3EAfgAFAAAAAXcEAAAAAXNxAH4ABwAAAQQ/8AAAAAAAAHhzcQB+AAUAAAAAdwQAAAAAeA==\"},{\"score\":2.478390261343323,\"attributes\":{\"support\":684.0,\"movieId\":\"296\"},\"instance\":\"rO0ABXNyADxvcmcuZ3JvdXBsZW5zLnNhbWFudGhhLm1vZGVsZXIuc3ZkZmVhdHVyZS5TVkRGZWF0dXJlSW5zdGFuY2UAAAAAAAAAAQIABUQABWxhYmVsRAAGd2VpZ2h0TAAFZ2ZlYXN0ABBMamF2YS91dGlsL0xpc3Q7TAAFaWZlYXNxAH4AAUwABXVmZWFzcQB+AAF4cgBCb3JnLmdyb3VwbGVucy5zYW1hbnRoYS5tb2RlbGVyLmZlYXR1cml6ZXIuQWJzdHJhY3RMZWFybmluZ0luc3RhbmNlHJRin5RSUkgCAAFMAAVncm91cHQAEkxqYXZhL2xhbmcvU3RyaW5nO3hwcAAAAAAAAAAAP/AAAAAAAABzcgATamF2YS51dGlsLkFycmF5TGlzdHiB0h2Zx2GdAwABSQAEc2l6ZXhwAAAAAncEAAAAAnNyADFvcmcuZ3JvdXBsZW5zLnNhbWFudGhhLm1vZGVsZXIuZmVhdHVyaXplci5GZWF0dXJlqBau7Pp4F/YCAAJJAAVpbmRleEQABXZhbHVleHAAAAAAP/AAAAAAAABzcQB+AAcAAACCP/AAAAAAAAB4c3EAfgAFAAAAAXcEAAAAAXNxAH4ABwAAAH4/8AAAAAAAAHhzcQB+AAUAAAAAdwQAAAAAeA==\"},{\"score\":2.472620641930227,\"attributes\":{\"support\":992.0,\"movieId\":\"2571\"},\"instance\":\"rO0ABXNyADxvcmcuZ3JvdXBsZW5zLnNhbWFudGhhLm1vZGVsZXIuc3ZkZmVhdHVyZS5TVkRGZWF0dXJlSW5zdGFuY2UAAAAAAAAAAQIABUQABWxhYmVsRAAGd2VpZ2h0TAAFZ2ZlYXN0ABBMamF2YS91dGlsL0xpc3Q7TAAFaWZlYXNxAH4AAUwABXVmZWFzcQB+AAF4cgBCb3JnLmdyb3VwbGVucy5zYW1hbnRoYS5tb2RlbGVyLmZlYXR1cml6ZXIuQWJzdHJhY3RMZWFybmluZ0luc3RhbmNlHJRin5RSUkgCAAFMAAVncm91cHQAEkxqYXZhL2xhbmcvU3RyaW5nO3hwcAAAAAAAAAAAP/AAAAAAAABzcgATamF2YS51dGlsLkFycmF5TGlzdHiB0h2Zx2GdAwABSQAEc2l6ZXhwAAAAAncEAAAAAnNyADFvcmcuZ3JvdXBsZW5zLnNhbWFudGhhLm1vZGVsZXIuZmVhdHVyaXplci5GZWF0dXJlqBau7Pp4F/YCAAJJAAVpbmRleEQABXZhbHVleHAAAAAAP/AAAAAAAABzcQB+AAcAAACxP/AAAAAAAAB4c3EAfgAFAAAAAXcEAAAAAXNxAH4ABwAAAK8/8AAAAAAAAHhzcQB+AAUAAAAAdwQAAAAAeA==\"},{\"score\":2.4430024102117933,\"attributes\":{\"support\":770.0,\"movieId\":\"356\"},\"instance\":\"rO0ABXNyADxvcmcuZ3JvdXBsZW5zLnNhbWFudGhhLm1vZGVsZXIuc3ZkZmVhdHVyZS5TVkRGZWF0dXJlSW5zdGFuY2UAAAAAAAAAAQIABUQABWxhYmVsRAAGd2VpZ2h0TAAFZ2ZlYXN0ABBMamF2YS91dGlsL0xpc3Q7TAAFaWZlYXNxAH4AAUwABXVmZWFzcQB+AAF4cgBCb3JnLmdyb3VwbGVucy5zYW1hbnRoYS5tb2RlbGVyLmZlYXR1cml6ZXIuQWJzdHJhY3RMZWFybmluZ0luc3RhbmNlHJRin5RSUkgCAAFMAAVncm91cHQAEkxqYXZhL2xhbmcvU3RyaW5nO3hwcAAAAAAAAAAAP/AAAAAAAABzcgATamF2YS51dGlsLkFycmF5TGlzdHiB0h2Zx2GdAwABSQAEc2l6ZXhwAAAAAncEAAAAAnNyADFvcmcuZ3JvdXBsZW5zLnNhbWFudGhhLm1vZGVsZXIuZmVhdHVyaXplci5GZWF0dXJlqBau7Pp4F/YCAAJJAAVpbmRleEQABXZhbHVleHAAAAAAP/AAAAAAAABzcQB+AAcAAADBP/AAAAAAAAB4c3EAfgAFAAAAAXcEAAAAAXNxAH4ABwAAAL8/8AAAAAAAAHhzcQB+AAUAAAAAdwQAAAAAeA==\"},{\"score\":2.4369163234499096,\"attributes\":{\"support\":556.0,\"movieId\":\"60069\"},\"instance\":\"rO0ABXNyADxvcmcuZ3JvdXBsZW5zLnNhbWFudGhhLm1vZGVsZXIuc3ZkZmVhdHVyZS5TVkRGZWF0dXJlSW5zdGFuY2UAAAAAAAAAAQIABUQABWxhYmVsRAAGd2VpZ2h0TAAFZ2ZlYXN0ABBMamF2YS91dGlsL0xpc3Q7TAAFaWZlYXNxAH4AAUwABXVmZWFzcQB+AAF4cgBCb3JnLmdyb3VwbGVucy5zYW1hbnRoYS5tb2RlbGVyLmZlYXR1cml6ZXIuQWJzdHJhY3RMZWFybmluZ0luc3RhbmNlHJRin5RSUkgCAAFMAAVncm91cHQAEkxqYXZhL2xhbmcvU3RyaW5nO3hwcAAAAAAAAAAAP/AAAAAAAABzcgATamF2YS51dGlsLkFycmF5TGlzdHiB0h2Zx2GdAwABSQAEc2l6ZXhwAAAAAncEAAAAAnNyADFvcmcuZ3JvdXBsZW5zLnNhbWFudGhhLm1vZGVsZXIuZmVhdHVyaXplci5GZWF0dXJlqBau7Pp4F/YCAAJJAAVpbmRleEQABXZhbHVleHAAAAAAP/AAAAAAAABzcQB+AAcAAAD4P/AAAAAAAAB4c3EAfgAFAAAAAXcEAAAAAXNxAH4ABwAAAPY/8AAAAAAAAHhzcQB+AAUAAAAAdwQAAAAAeA==\"},{\"score\":2.4252724641843306,\"attributes\":{\"support\":722.0,\"movieId\":\"5952\"},\"instance\":\"rO0ABXNyADxvcmcuZ3JvdXBsZW5zLnNhbWFudGhhLm1vZGVsZXIuc3ZkZmVhdHVyZS5TVkRGZWF0dXJlSW5zdGFuY2UAAAAAAAAAAQIABUQABWxhYmVsRAAGd2VpZ2h0TAAFZ2ZlYXN0ABBMamF2YS91dGlsL0xpc3Q7TAAFaWZlYXNxAH4AAUwABXVmZWFzcQB+AAF4cgBCb3JnLmdyb3VwbGVucy5zYW1hbnRoYS5tb2RlbGVyLmZlYXR1cml6ZXIuQWJzdHJhY3RMZWFybmluZ0luc3RhbmNlHJRin5RSUkgCAAFMAAVncm91cHQAEkxqYXZhL2xhbmcvU3RyaW5nO3hwcAAAAAAAAAAAP/AAAAAAAABzcgATamF2YS51dGlsLkFycmF5TGlzdHiB0h2Zx2GdAwABSQAEc2l6ZXhwAAAAAncEAAAAAnNyADFvcmcuZ3JvdXBsZW5zLnNhbWFudGhhLm1vZGVsZXIuZmVhdHVyaXplci5GZWF0dXJlqBau7Pp4F/YCAAJJAAVpbmRleEQABXZhbHVleHAAAAAAP/AAAAAAAABzcQB+AAcAAADXP/AAAAAAAAB4c3EAfgAFAAAAAXcEAAAAAXNxAH4ABwAAANU/8AAAAAAAAHhzcQB+AAUAAAAAdwQAAAAAeA==\"},{\"score\":2.410354889595328,\"attributes\":{\"support\":536.0,\"movieId\":\"1704\"},\"instance\":\"rO0ABXNyADxvcmcuZ3JvdXBsZW5zLnNhbWFudGhhLm1vZGVsZXIuc3ZkZmVhdHVyZS5TVkRGZWF0dXJlSW5zdGFuY2UAAAAAAAAAAQIABUQABWxhYmVsRAAGd2VpZ2h0TAAFZ2ZlYXN0ABBMamF2YS91dGlsL0xpc3Q7TAAFaWZlYXNxAH4AAUwABXVmZWFzcQB+AAF4cgBCb3JnLmdyb3VwbGVucy5zYW1hbnRoYS5tb2RlbGVyLmZlYXR1cml6ZXIuQWJzdHJhY3RMZWFybmluZ0luc3RhbmNlHJRin5RSUkgCAAFMAAVncm91cHQAEkxqYXZhL2xhbmcvU3RyaW5nO3hwcAAAAAAAAAAAP/AAAAAAAABzcgATamF2YS51dGlsLkFycmF5TGlzdHiB0h2Zx2GdAwABSQAEc2l6ZXhwAAAAAncEAAAAAnNyADFvcmcuZ3JvdXBsZW5zLnNhbWFudGhhLm1vZGVsZXIuZmVhdHVyaXplci5GZWF0dXJlqBau7Pp4F/YCAAJJAAVpbmRleEQABXZhbHVleHAAAAAAP/AAAAAAAABzcQB+AAcAAADJP/AAAAAAAAB4c3EAfgAFAAAAAXcEAAAAAXNxAH4ABwAAAMc/8AAAAAAAAHhzcQB+AAUAAAAAdwQAAAAAeA==\"},{\"score\":2.390847923852718,\"attributes\":{\"support\":772.0,\"movieId\":\"4993\"},\"instance\":\"rO0ABXNyADxvcmcuZ3JvdXBsZW5zLnNhbWFudGhhLm1vZGVsZXIuc3ZkZmVhdHVyZS5TVkRGZWF0dXJlSW5zdGFuY2UAAAAAAAAAAQIABUQABWxhYmVsRAAGd2VpZ2h0TAAFZ2ZlYXN0ABBMamF2YS91dGlsL0xpc3Q7TAAFaWZlYXNxAH4AAUwABXVmZWFzcQB+AAF4cgBCb3JnLmdyb3VwbGVucy5zYW1hbnRoYS5tb2RlbGVyLmZlYXR1cml6ZXIuQWJzdHJhY3RMZWFybmluZ0luc3RhbmNlHJRin5RSUkgCAAFMAAVncm91cHQAEkxqYXZhL2xhbmcvU3RyaW5nO3hwcAAAAAAAAAAAP/AAAAAAAABzcgATamF2YS51dGlsLkFycmF5TGlzdHiB0h2Zx2GdAwABSQAEc2l6ZXhwAAAAAncEAAAAAnNyADFvcmcuZ3JvdXBsZW5zLnNhbWFudGhhLm1vZGVsZXIuZmVhdHVyaXplci5GZWF0dXJlqBau7Pp4F/YCAAJJAAVpbmRleEQABXZhbHVleHAAAAAAP/AAAAAAAABzcQB+AAcAAAGgP/AAAAAAAAB4c3EAfgAFAAAAAXcEAAAAAXNxAH4ABwAAAZ4/8AAAAAAAAHhzcQB+AAUAAAAAdwQAAAAAeA==\"},{\"score\":2.384010643046234,\"attributes\":{\"support\":408.0,\"movieId\":\"4973\"},\"instance\":\"rO0ABXNyADxvcmcuZ3JvdXBsZW5zLnNhbWFudGhhLm1vZGVsZXIuc3ZkZmVhdHVyZS5TVkRGZWF0dXJlSW5zdGFuY2UAAAAAAAAAAQIABUQABWxhYmVsRAAGd2VpZ2h0TAAFZ2ZlYXN0ABBMamF2YS91dGlsL0xpc3Q7TAAFaWZlYXNxAH4AAUwABXVmZWFzcQB+AAF4cgBCb3JnLmdyb3VwbGVucy5zYW1hbnRoYS5tb2RlbGVyLmZlYXR1cml6ZXIuQWJzdHJhY3RMZWFybmluZ0luc3RhbmNlHJRin5RSUkgCAAFMAAVncm91cHQAEkxqYXZhL2xhbmcvU3RyaW5nO3hwcAAAAAAAAAAAP/AAAAAAAABzcgATamF2YS51dGlsLkFycmF5TGlzdHiB0h2Zx2GdAwABSQAEc2l6ZXhwAAAAAncEAAAAAnNyADFvcmcuZ3JvdXBsZW5zLnNhbWFudGhhLm1vZGVsZXIuZmVhdHVyaXplci5GZWF0dXJlqBau7Pp4F/YCAAJJAAVpbmRleEQABXZhbHVleHAAAAAAP/AAAAAAAABzcQB+AAcAAAGeP/AAAAAAAAB4c3EAfgAFAAAAAXcEAAAAAXNxAH4ABwAAAZw/8AAAAAAAAHhzcQB+AAUAAAAAdwQAAAAAeA==\"},{\"score\":2.379347416926992,\"attributes\":{\"support\":772.0,\"movieId\":\"58559\"},\"instance\":\"rO0ABXNyADxvcmcuZ3JvdXBsZW5zLnNhbWFudGhhLm1vZGVsZXIuc3ZkZmVhdHVyZS5TVkRGZWF0dXJlSW5zdGFuY2UAAAAAAAAAAQIABUQABWxhYmVsRAAGd2VpZ2h0TAAFZ2ZlYXN0ABBMamF2YS91dGlsL0xpc3Q7TAAFaWZlYXNxAH4AAUwABXVmZWFzcQB+AAF4cgBCb3JnLmdyb3VwbGVucy5zYW1hbnRoYS5tb2RlbGVyLmZlYXR1cml6ZXIuQWJzdHJhY3RMZWFybmluZ0luc3RhbmNlHJRin5RSUkgCAAFMAAVncm91cHQAEkxqYXZhL2xhbmcvU3RyaW5nO3hwcAAAAAAAAAAAP/AAAAAAAABzcgATamF2YS51dGlsLkFycmF5TGlzdHiB0h2Zx2GdAwABSQAEc2l6ZXhwAAAAAncEAAAAAnNyADFvcmcuZ3JvdXBsZW5zLnNhbWFudGhhLm1vZGVsZXIuZmVhdHVyaXplci5GZWF0dXJlqBau7Pp4F/YCAAJJAAVpbmRleEQABXZhbHVleHAAAAAAP/AAAAAAAABzcQB+AAcAAAD3P/AAAAAAAAB4c3EAfgAFAAAAAXcEAAAAAXNxAH4ABwAAAPU/8AAAAAAAAHhzcQB+AAUAAAAAdwQAAAAAeA==\"},{\"score\":2.374961776952464,\"attributes\":{\"support\":610.0,\"movieId\":\"68954\"},\"instance\":\"rO0ABXNyADxvcmcuZ3JvdXBsZW5zLnNhbWFudGhhLm1vZGVsZXIuc3ZkZmVhdHVyZS5TVkRGZWF0dXJlSW5zdGFuY2UAAAAAAAAAAQIABUQABWxhYmVsRAAGd2VpZ2h0TAAFZ2ZlYXN0ABBMamF2YS91dGlsL0xpc3Q7TAAFaWZlYXNxAH4AAUwABXVmZWFzcQB+AAF4cgBCb3JnLmdyb3VwbGVucy5zYW1hbnRoYS5tb2RlbGVyLmZlYXR1cml6ZXIuQWJzdHJhY3RMZWFybmluZ0luc3RhbmNlHJRin5RSUkgCAAFMAAVncm91cHQAEkxqYXZhL2xhbmcvU3RyaW5nO3hwcAAAAAAAAAAAP/AAAAAAAABzcgATamF2YS51dGlsLkFycmF5TGlzdHiB0h2Zx2GdAwABSQAEc2l6ZXhwAAAAAncEAAAAAnNyADFvcmcuZ3JvdXBsZW5zLnNhbWFudGhhLm1vZGVsZXIuZmVhdHVyaXplci5GZWF0dXJlqBau7Pp4F/YCAAJJAAVpbmRleEQABXZhbHVleHAAAAAAP/AAAAAAAABzcQB+AAcAAAD9P/AAAAAAAAB4c3EAfgAFAAAAAXcEAAAAAXNxAH4ABwAAAPs/8AAAAAAAAHhzcQB+AAUAAAAAdwQAAAAAeA==\"},{\"score\":2.36786450888565,\"attributes\":{\"support\":400.0,\"movieId\":\"1682\"},\"instance\":\"rO0ABXNyADxvcmcuZ3JvdXBsZW5zLnNhbWFudGhhLm1vZGVsZXIuc3ZkZmVhdHVyZS5TVkRGZWF0dXJlSW5zdGFuY2UAAAAAAAAAAQIABUQABWxhYmVsRAAGd2VpZ2h0TAAFZ2ZlYXN0ABBMamF2YS91dGlsL0xpc3Q7TAAFaWZlYXNxAH4AAUwABXVmZWFzcQB+AAF4cgBCb3JnLmdyb3VwbGVucy5zYW1hbnRoYS5tb2RlbGVyLmZlYXR1cml6ZXIuQWJzdHJhY3RMZWFybmluZ0luc3RhbmNlHJRin5RSUkgCAAFMAAVncm91cHQAEkxqYXZhL2xhbmcvU3RyaW5nO3hwcAAAAAAAAAAAP/AAAAAAAABzcgATamF2YS51dGlsLkFycmF5TGlzdHiB0h2Zx2GdAwABSQAEc2l6ZXhwAAAAAncEAAAAAnNyADFvcmcuZ3JvdXBsZW5zLnNhbWFudGhhLm1vZGVsZXIuZmVhdHVyaXplci5GZWF0dXJlqBau7Pp4F/YCAAJJAAVpbmRleEQABXZhbHVleHAAAAAAP/AAAAAAAABzcQB+AAcAAADIP/AAAAAAAAB4c3EAfgAFAAAAAXcEAAAAAXNxAH4ABwAAAMY/8AAAAAAAAHhzcQB+AAUAAAAAdwQAAAAAeA==\"},{\"score\":2.361490688744872,\"attributes\":{\"support\":416.0,\"movieId\":\"4226\"},\"instance\":\"rO0ABXNyADxvcmcuZ3JvdXBsZW5zLnNhbWFudGhhLm1vZGVsZXIuc3ZkZmVhdHVyZS5TVkRGZWF0dXJlSW5zdGFuY2UAAAAAAAAAAQIABUQABWxhYmVsRAAGd2VpZ2h0TAAFZ2ZlYXN0ABBMamF2YS91dGlsL0xpc3Q7TAAFaWZlYXNxAH4AAUwABXVmZWFzcQB+AAF4cgBCb3JnLmdyb3VwbGVucy5zYW1hbnRoYS5tb2RlbGVyLmZlYXR1cml6ZXIuQWJzdHJhY3RMZWFybmluZ0luc3RhbmNlHJRin5RSUkgCAAFMAAVncm91cHQAEkxqYXZhL2xhbmcvU3RyaW5nO3hwcAAAAAAAAAAAP/AAAAAAAABzcgATamF2YS51dGlsLkFycmF5TGlzdHiB0h2Zx2GdAwABSQAEc2l6ZXhwAAAAAncEAAAAAnNyADFvcmcuZ3JvdXBsZW5zLnNhbWFudGhhLm1vZGVsZXIuZmVhdHVyaXplci5GZWF0dXJlqBau7Pp4F/YCAAJJAAVpbmRleEQABXZhbHVleHAAAAAAP/AAAAAAAABzcQB+AAcAAAC2P/AAAAAAAAB4c3EAfgAFAAAAAXcEAAAAAXNxAH4ABwAAALQ/8AAAAAAAAHhzcQB+AAUAAAAAdwQAAAAAeA==\"},{\"score\":2.360889379979415,\"attributes\":{\"support\":304.0,\"movieId\":\"4963\"},\"instance\":\"rO0ABXNyADxvcmcuZ3JvdXBsZW5zLnNhbWFudGhhLm1vZGVsZXIuc3ZkZmVhdHVyZS5TVkRGZWF0dXJlSW5zdGFuY2UAAAAAAAAAAQIABUQABWxhYmVsRAAGd2VpZ2h0TAAFZ2ZlYXN0ABBMamF2YS91dGlsL0xpc3Q7TAAFaWZlYXNxAH4AAUwABXVmZWFzcQB+AAF4cgBCb3JnLmdyb3VwbGVucy5zYW1hbnRoYS5tb2RlbGVyLmZlYXR1cml6ZXIuQWJzdHJhY3RMZWFybmluZ0luc3RhbmNlHJRin5RSUkgCAAFMAAVncm91cHQAEkxqYXZhL2xhbmcvU3RyaW5nO3hwcAAAAAAAAAAAP/AAAAAAAABzcgATamF2YS51dGlsLkFycmF5TGlzdHiB0h2Zx2GdAwABSQAEc2l6ZXhwAAAAAncEAAAAAnNyADFvcmcuZ3JvdXBsZW5zLnNhbWFudGhhLm1vZGVsZXIuZmVhdHVyaXplci5GZWF0dXJlqBau7Pp4F/YCAAJJAAVpbmRleEQABXZhbHVleHAAAAAAP/AAAAAAAABzcQB+AAcAAAGdP/AAAAAAAAB4c3EAfgAFAAAAAXcEAAAAAXNxAH4ABwAAAZs/8AAAAAAAAHhzcQB+AAUAAAAAdwQAAAAAeA==\"},{\"score\":2.3564090317318787,\"attributes\":{\"support\":302.0,\"movieId\":\"1136\"},\"instance\":\"rO0ABXNyADxvcmcuZ3JvdXBsZW5zLnNhbWFudGhhLm1vZGVsZXIuc3ZkZmVhdHVyZS5TVkRGZWF0dXJlSW5zdGFuY2UAAAAAAAAAAQIABUQABWxhYmVsRAAGd2VpZ2h0TAAFZ2ZlYXN0ABBMamF2YS91dGlsL0xpc3Q7TAAFaWZlYXNxAH4AAUwABXVmZWFzcQB+AAF4cgBCb3JnLmdyb3VwbGVucy5zYW1hbnRoYS5tb2RlbGVyLmZlYXR1cml6ZXIuQWJzdHJhY3RMZWFybmluZ0luc3RhbmNlHJRin5RSUkgCAAFMAAVncm91cHQAEkxqYXZhL2xhbmcvU3RyaW5nO3hwcAAAAAAAAAAAP/AAAAAAAABzcgATamF2YS51dGlsLkFycmF5TGlzdHiB0h2Zx2GdAwABSQAEc2l6ZXhwAAAAAncEAAAAAnNyADFvcmcuZ3JvdXBsZW5zLnNhbWFudGhhLm1vZGVsZXIuZmVhdHVyaXplci5GZWF0dXJlqBau7Pp4F/YCAAJJAAVpbmRleEQABXZhbHVleHAAAAAAP/AAAAAAAABzcQB+AAcAAACVP/AAAAAAAAB4c3EAfgAFAAAAAXcEAAAAAXNxAH4ABwAAAJE/8AAAAAAAAHhzcQB+AAUAAAAAdwQAAAAAeA==\"},{\"score\":2.3551877904022738,\"attributes\":{\"support\":412.0,\"movieId\":\"112852\"},\"instance\":\"rO0ABXNyADxvcmcuZ3JvdXBsZW5zLnNhbWFudGhhLm1vZGVsZXIuc3ZkZmVhdHVyZS5TVkRGZWF0dXJlSW5zdGFuY2UAAAAAAAAAAQIABUQABWxhYmVsRAAGd2VpZ2h0TAAFZ2ZlYXN0ABBMamF2YS91dGlsL0xpc3Q7TAAFaWZlYXNxAH4AAUwABXVmZWFzcQB+AAF4cgBCb3JnLmdyb3VwbGVucy5zYW1hbnRoYS5tb2RlbGVyLmZlYXR1cml6ZXIuQWJzdHJhY3RMZWFybmluZ0luc3RhbmNlHJRin5RSUkgCAAFMAAVncm91cHQAEkxqYXZhL2xhbmcvU3RyaW5nO3hwcAAAAAAAAAAAP/AAAAAAAABzcgATamF2YS51dGlsLkFycmF5TGlzdHiB0h2Zx2GdAwABSQAEc2l6ZXhwAAAAAncEAAAAAnNyADFvcmcuZ3JvdXBsZW5zLnNhbWFudGhhLm1vZGVsZXIuZmVhdHVyaXplci5GZWF0dXJlqBau7Pp4F/YCAAJJAAVpbmRleEQABXZhbHVleHAAAAAAP/AAAAAAAABzcQB+AAcAAAA3P/AAAAAAAAB4c3EAfgAFAAAAAXcEAAAAAXNxAH4ABwAAADU/8AAAAAAAAHhzcQB+AAUAAAAAdwQAAAAAeA==\"},{\"score\":2.353519664023988,\"attributes\":{\"support\":346.0,\"movieId\":\"1089\"},\"instance\":\"rO0ABXNyADxvcmcuZ3JvdXBsZW5zLnNhbWFudGhhLm1vZGVsZXIuc3ZkZmVhdHVyZS5TVkRGZWF0dXJlSW5zdGFuY2UAAAAAAAAAAQIABUQABWxhYmVsRAAGd2VpZ2h0TAAFZ2ZlYXN0ABBMamF2YS91dGlsL0xpc3Q7TAAFaWZlYXNxAH4AAUwABXVmZWFzcQB+AAF4cgBCb3JnLmdyb3VwbGVucy5zYW1hbnRoYS5tb2RlbGVyLmZlYXR1cml6ZXIuQWJzdHJhY3RMZWFybmluZ0luc3RhbmNlHJRin5RSUkgCAAFMAAVncm91cHQAEkxqYXZhL2xhbmcvU3RyaW5nO3hwcAAAAAAAAAAAP/AAAAAAAABzcgATamF2YS51dGlsLkFycmF5TGlzdHiB0h2Zx2GdAwABSQAEc2l6ZXhwAAAAAncEAAAAAnNyADFvcmcuZ3JvdXBsZW5zLnNhbWFudGhhLm1vZGVsZXIuZmVhdHVyaXplci5GZWF0dXJlqBau7Pp4F/YCAAJJAAVpbmRleEQABXZhbHVleHAAAAAAP/AAAAAAAABzcQB+AAcAAADCP/AAAAAAAAB4c3EAfgAFAAAAAXcEAAAAAXNxAH4ABwAAAMA/8AAAAAAAAHhzcQB+AAUAAAAAdwQAAAAAeA==\"},{\"score\":2.3524479589495457,\"attributes\":{\"support\":466.0,\"movieId\":\"152081\"},\"instance\":\"rO0ABXNyADxvcmcuZ3JvdXBsZW5zLnNhbWFudGhhLm1vZGVsZXIuc3ZkZmVhdHVyZS5TVkRGZWF0dXJlSW5zdGFuY2UAAAAAAAAAAQIABUQABWxhYmVsRAAGd2VpZ2h0TAAFZ2ZlYXN0ABBMamF2YS91dGlsL0xpc3Q7TAAFaWZlYXNxAH4AAUwABXVmZWFzcQB+AAF4cgBCb3JnLmdyb3VwbGVucy5zYW1hbnRoYS5tb2RlbGVyLmZlYXR1cml6ZXIuQWJzdHJhY3RMZWFybmluZ0luc3RhbmNlHJRin5RSUkgCAAFMAAVncm91cHQAEkxqYXZhL2xhbmcvU3RyaW5nO3hwcAAAAAAAAAAAP/AAAAAAAABzcgATamF2YS51dGlsLkFycmF5TGlzdHiB0h2Zx2GdAwABSQAEc2l6ZXhwAAAAAncEAAAAAnNyADFvcmcuZ3JvdXBsZW5zLnNhbWFudGhhLm1vZGVsZXIuZmVhdHVyaXplci5GZWF0dXJlqBau7Pp4F/YCAAJJAAVpbmRleEQABXZhbHVleHAAAAAAP/AAAAAAAABzcQB+AAcAAABpP/AAAAAAAAB4c3EAfgAFAAAAAXcEAAAAAXNxAH4ABwAAAGc/8AAAAAAAAHhzcQB+AAUAAAAAdwQAAAAAeA==\"},{\"score\":2.350824311166882,\"attributes\":{\"support\":450.0,\"movieId\":\"6377\"},\"instance\":\"rO0ABXNyADxvcmcuZ3JvdXBsZW5zLnNhbWFudGhhLm1vZGVsZXIuc3ZkZmVhdHVyZS5TVkRGZWF0dXJlSW5zdGFuY2UAAAAAAAAAAQIABUQABWxhYmVsRAAGd2VpZ2h0TAAFZ2ZlYXN0ABBMamF2YS91dGlsL0xpc3Q7TAAFaWZlYXNxAH4AAUwABXVmZWFzcQB+AAF4cgBCb3JnLmdyb3VwbGVucy5zYW1hbnRoYS5tb2RlbGVyLmZlYXR1cml6ZXIuQWJzdHJhY3RMZWFybmluZ0luc3RhbmNlHJRin5RSUkgCAAFMAAVncm91cHQAEkxqYXZhL2xhbmcvU3RyaW5nO3hwcAAAAAAAAAAAP/AAAAAAAABzcgATamF2YS51dGlsLkFycmF5TGlzdHiB0h2Zx2GdAwABSQAEc2l6ZXhwAAAAAncEAAAAAnNyADFvcmcuZ3JvdXBsZW5zLnNhbWFudGhhLm1vZGVsZXIuZmVhdHVyaXplci5GZWF0dXJlqBau7Pp4F/YCAAJJAAVpbmRleEQABXZhbHVleHAAAAAAP/AAAAAAAABzcQB+AAcAAAMsP/AAAAAAAAB4c3EAfgAFAAAAAXcEAAAAAXNxAH4ABwAAAyk/8AAAAAAAAHhzcQB+AAUAAAAAdwQAAAAAeA==\"},{\"score\":2.350313432215237,\"attributes\":{\"support\":300.0,\"movieId\":\"1732\"},\"instance\":\"rO0ABXNyADxvcmcuZ3JvdXBsZW5zLnNhbWFudGhhLm1vZGVsZXIuc3ZkZmVhdHVyZS5TVkRGZWF0dXJlSW5zdGFuY2UAAAAAAAAAAQIABUQABWxhYmVsRAAGd2VpZ2h0TAAFZ2ZlYXN0ABBMamF2YS91dGlsL0xpc3Q7TAAFaWZlYXNxAH4AAUwABXVmZWFzcQB+AAF4cgBCb3JnLmdyb3VwbGVucy5zYW1hbnRoYS5tb2RlbGVyLmZlYXR1cml6ZXIuQWJzdHJhY3RMZWFybmluZ0luc3RhbmNlHJRin5RSUkgCAAFMAAVncm91cHQAEkxqYXZhL2xhbmcvU3RyaW5nO3hwcAAAAAAAAAAAP/AAAAAAAABzcgATamF2YS51dGlsLkFycmF5TGlzdHiB0h2Zx2GdAwABSQAEc2l6ZXhwAAAAAncEAAAAAnNyADFvcmcuZ3JvdXBsZW5zLnNhbWFudGhhLm1vZGVsZXIuZmVhdHVyaXplci5GZWF0dXJlqBau7Pp4F/YCAAJJAAVpbmRleEQABXZhbHVleHAAAAAAP/AAAAAAAABzcQB+AAcAAACsP/AAAAAAAAB4c3EAfgAFAAAAAXcEAAAAAXNxAH4ABwAAAKo/8AAAAAAAAHhzcQB+AAUAAAAAdwQAAAAAeA==\"},{\"score\":2.347016834569272,\"attributes\":{\"support\":370.0,\"movieId\":\"1270\"},\"instance\":\"rO0ABXNyADxvcmcuZ3JvdXBsZW5zLnNhbWFudGhhLm1vZGVsZXIuc3ZkZmVhdHVyZS5TVkRGZWF0dXJlSW5zdGFuY2UAAAAAAAAAAQIABUQABWxhYmVsRAAGd2VpZ2h0TAAFZ2ZlYXN0ABBMamF2YS91dGlsL0xpc3Q7TAAFaWZlYXNxAH4AAUwABXVmZWFzcQB+AAF4cgBCb3JnLmdyb3VwbGVucy5zYW1hbnRoYS5tb2RlbGVyLmZlYXR1cml6ZXIuQWJzdHJhY3RMZWFybmluZ0luc3RhbmNlHJRin5RSUkgCAAFMAAVncm91cHQAEkxqYXZhL2xhbmcvU3RyaW5nO3hwcAAAAAAAAAAAP/AAAAAAAABzcgATamF2YS51dGlsLkFycmF5TGlzdHiB0h2Zx2GdAwABSQAEc2l6ZXhwAAAAAncEAAAAAnNyADFvcmcuZ3JvdXBsZW5zLnNhbWFudGhhLm1vZGVsZXIuZmVhdHVyaXplci5GZWF0dXJlqBau7Pp4F/YCAAJJAAVpbmRleEQABXZhbHVleHAAAAAAP/AAAAAAAABzcQB+AAcAAACrP/AAAAAAAAB4c3EAfgAFAAAAAXcEAAAAAXNxAH4ABwAAAKk/8AAAAAAAAHhzcQB+AAUAAAAAdwQAAAAAeA==\"},{\"score\":2.341069451634178,\"attributes\":{\"support\":266.0,\"movieId\":\"1258\"},\"instance\":\"rO0ABXNyADxvcmcuZ3JvdXBsZW5zLnNhbWFudGhhLm1vZGVsZXIuc3ZkZmVhdHVyZS5TVkRGZWF0dXJlSW5zdGFuY2UAAAAAAAAAAQIABUQABWxhYmVsRAAGd2VpZ2h0TAAFZ2ZlYXN0ABBMamF2YS91dGlsL0xpc3Q7TAAFaWZlYXNxAH4AAUwABXVmZWFzcQB+AAF4cgBCb3JnLmdyb3VwbGVucy5zYW1hbnRoYS5tb2RlbGVyLmZlYXR1cml6ZXIuQWJzdHJhY3RMZWFybmluZ0luc3RhbmNlHJRin5RSUkgCAAFMAAVncm91cHQAEkxqYXZhL2xhbmcvU3RyaW5nO3hwcAAAAAAAAAAAP/AAAAAAAABzcgATamF2YS51dGlsLkFycmF5TGlzdHiB0h2Zx2GdAwABSQAEc2l6ZXhwAAAAAncEAAAAAnNyADFvcmcuZ3JvdXBsZW5zLnNhbWFudGhhLm1vZGVsZXIuZmVhdHVyaXplci5GZWF0dXJlqBau7Pp4F/YCAAJJAAVpbmRleEQABXZhbHVleHAAAAAAP/AAAAAAAABzcQB+AAcAAACpP/AAAAAAAAB4c3EAfgAFAAAAAXcEAAAAAXNxAH4ABwAAAKc/8AAAAAAAAHhzcQB+AAUAAAAAdwQAAAAAeA==\"}]},\"configuration\":{\"retriever\":\"FeatureSupportMovieRetriever\",\"name\":\"ml-demo-svdfea-recommender\",\"configClass\":\"org.grouplens.samantha.server.recommender.StandardRecommenderConfig\",\"ranker\":\"ml-demo-svdfea-ranker\"},\"engine\":\"movielens-demo\"}}'"
      ]
     },
     "execution_count": 98,
     "metadata": {},
     "output_type": "execute_result"
    }
   ],
   "source": [
    "data = {\n",
    "    'userId': 296986,\n",
    "    'recommender': 'ml-demo-svdfea-recommender',\n",
    "}\n",
    "\"\"\"\n",
    "tag/mark: \"configuration\":{\"retriever\":\"FeatureSupportMovieRetriever\",\"name\":\"ml-demo-svdfea-recommender\",\"configClass\":\"org.grouplens.samantha.server.recommender.StandardRecommenderConfig\",\"ranker\":\"ml-demo-svdfea-ranker\"},\"engine\":\"movielens-demo\"}\n",
    "instance: {\"score\":2.3729079120321748,\"attributes\":{\"support\":266.0,\"movieId\":\"1258\"},\"instance\":\"rO0ABXNyADxvcmcuZ3JvdXBsZW5zLnNhbWFudGhhLm1vZGVsZXIuc3ZkZmVhdHVyZS5TVkRGZWF0dXJlSW5zdGFuY2UAAAAAAAAAAQIABUQABWxhYmVsRAAGd2VpZ2h0TAAFZ2ZlYXN0ABBMamF2YS91dGlsL0xpc3Q7TAAFaWZlYXNxAH4AAUwABXVmZWFzcQB+AAF4cgBCb3JnLmdyb3VwbGVucy5zYW1hbnRoYS5tb2RlbGVyLmZlYXR1cml6ZXIuQWJzdHJhY3RMZWFybmluZ0luc3RhbmNlHJRin5RSUkgCAAFMAAVncm91cHQAEkxqYXZhL2xhbmcvU3RyaW5nO3hwcAAAAAAAAAAAP/AAAAAAAABzcgATamF2YS51dGlsLkFycmF5TGlzdHiB0h2Zx2GdAwABSQAEc2l6ZXhwAAAAAncEAAAAAnNyADFvcmcuZ3JvdXBsZW5zLnNhbWFudGhhLm1vZGVsZXIuZmVhdHVyaXplci5GZWF0dXJlqBau7Pp4F/YCAAJJAAVpbmRleEQABXZhbHVleHAAAAAAP/AAAAAAAABzcQB+AAcAAACqP/AAAAAAAAB4c3EAfgAFAAAAAXcEAAAAAXNxAH4ABwAAAKY/8AAAAAAAAHhzcQB+AAUAAAAAdwQAAAAAeA==\"}]}\n",
    "\"\"\"\n",
    "req.post(host + 'recommendation', json=data).content"
   ]
  },
  {
   "cell_type": "code",
   "execution_count": null,
   "metadata": {
    "collapsed": true
   },
   "outputs": [],
   "source": []
  }
 ],
 "metadata": {
  "kernelspec": {
   "display_name": "Python [Root]",
   "language": "python",
   "name": "Python [Root]"
  },
  "language_info": {
   "codemirror_mode": {
    "name": "ipython",
    "version": 2
   },
   "file_extension": ".py",
   "mimetype": "text/x-python",
   "name": "python",
   "nbconvert_exporter": "python",
   "pygments_lexer": "ipython2",
   "version": "2.7.12"
  }
 },
 "nbformat": 4,
 "nbformat_minor": 0
}
