{
 "cells": [
  {
   "cell_type": "code",
   "execution_count": 149,
   "metadata": {
    "collapsed": true
   },
   "outputs": [],
   "source": [
    "dataPath = '/opt/samantha/learning/'\n",
    "host = 'http://localhost:9100/movielens-demo/'\n",
    "import requests as req\n",
    "import pandas as pd\n",
    "import numpy as np"
   ]
  },
  {
   "cell_type": "code",
   "execution_count": 150,
   "metadata": {
    "collapsed": false
   },
   "outputs": [],
   "source": [
    "#userMovieRating\n",
    "#\"userId\"\t\"movieId\"\t\"rating\"\t\"popularity\"\t\"avgRating\"\t\"releaseYear\"\t\"genres\"\t\"runtime\"\t\"mpaa\"\t\"tstamp\"\t\"wishlist\"\t\"highRated\"\n",
    "#xxx\t91657\t\"-1.0\"\t6148\t\"3.8223\"\t\"2011.0\"\t\"Thriller,Crime,Mystery,Drama\"\t\"158.0\"\t\"R\"\t1481109436\"1374,1376,1835,4729,31661\t0"
   ]
  },
  {
   "cell_type": "code",
   "execution_count": 166,
   "metadata": {
    "collapsed": false
   },
   "outputs": [
    {
     "data": {
      "text/plain": [
       "'{\"status\":\"success\"}'"
      ]
     },
     "execution_count": 166,
     "metadata": {},
     "output_type": "execute_result"
    }
   ],
   "source": [
    "data = {\n",
    "    'modelName': \"ml-demo-funksvd-predictor-model\",\n",
    "    'modelOperation': 'BUILD',\n",
    "    'predictor': 'ml-demo-funksvd-predictor',\n",
    "    'learningDaoConfig': {\n",
    "        'filePath': dataPath + \"trainRatings.tsv\",\n",
    "        'separator': '\\t',\n",
    "        'entityDaoName': 'CSVFileEntityDAO'\n",
    "    },\n",
    "    'validationDaoConfig': {\n",
    "        'filePath': dataPath + \"validRatings.tsv\",\n",
    "        'separator': '\\t',\n",
    "        'entityDaoName': 'CSVFileEntityDAO'\n",
    "    },\n",
    "    'evaluatorDaoConfig': {\n",
    "        'filePath': dataPath + \"testRatings.tsv\",\n",
    "        'separator': '\\t',\n",
    "        'entityDaoName': 'CSVFileEntityDAO'\n",
    "    }\n",
    "}\n",
    "req.post(host + 'predictor/model', json=data).content"
   ]
  },
  {
   "cell_type": "code",
   "execution_count": 167,
   "metadata": {
    "collapsed": false
   },
   "outputs": [
    {
     "data": {
      "text/plain": [
       "'{\"status\":\"success\"}'"
      ]
     },
     "execution_count": 167,
     "metadata": {},
     "output_type": "execute_result"
    }
   ],
   "source": [
    "data = {\n",
    "    'modelName': \"ml-demo-biglr-predictor-model\",\n",
    "    'modelOperation': 'BUILD',\n",
    "    'predictor': 'ml-demo-biglr-predictor',\n",
    "    'learningDaoConfig': {\n",
    "        'filePath': dataPath + \"trainRatings.tsv\",\n",
    "        'separator': '\\t',\n",
    "        'entityDaoName': 'CSVFileEntityDAO'\n",
    "    },\n",
    "    'validationDaoConfig': {\n",
    "        'filePath': dataPath + \"validRatings.tsv\",\n",
    "        'separator': '\\t',\n",
    "        'entityDaoName': 'CSVFileEntityDAO'\n",
    "    },\n",
    "    'evaluatorDaoConfig': {\n",
    "        'filePath': dataPath + \"testRatings.tsv\",\n",
    "        'separator': '\\t',\n",
    "        'entityDaoName': 'CSVFileEntityDAO'\n",
    "    }\n",
    "}\n",
    "req.post(host + 'predictor/model', json=data).content"
   ]
  },
  {
   "cell_type": "code",
   "execution_count": 168,
   "metadata": {
    "collapsed": false
   },
   "outputs": [
    {
     "data": {
      "text/plain": [
       "'{\"status\":\"success\"}'"
      ]
     },
     "execution_count": 168,
     "metadata": {},
     "output_type": "execute_result"
    }
   ],
   "source": [
    "data = {\n",
    "    'modelName': \"ml-demo-svdfea-predictor-model\",\n",
    "    'modelOperation': 'BUILD',\n",
    "    'predictor': 'ml-demo-svdfea-predictor',\n",
    "    'learningDaoConfig': {\n",
    "        'filePath': dataPath + \"trainRatings.tsv\",\n",
    "        'separator': '\\t',\n",
    "        'entityDaoName': 'CSVFileEntityDAO'\n",
    "    },\n",
    "    'validationDaoConfig': {\n",
    "        'filePath': dataPath + \"validRatings.tsv\",\n",
    "        'separator': '\\t',\n",
    "        'entityDaoName': 'CSVFileEntityDAO'\n",
    "    },\n",
    "    'evaluatorDaoConfig': {\n",
    "        'filePath': dataPath + \"testRatings.tsv\",\n",
    "        'separator': '\\t',\n",
    "        'entityDaoName': 'CSVFileEntityDAO'\n",
    "    }\n",
    "}\n",
    "req.post(host + 'predictor/model', json=data).content"
   ]
  },
  {
   "cell_type": "code",
   "execution_count": 154,
   "metadata": {
    "collapsed": false
   },
   "outputs": [
    {
     "data": {
      "text/plain": [
       "'{\"status\":\"success\"}'"
      ]
     },
     "execution_count": 154,
     "metadata": {},
     "output_type": "execute_result"
    }
   ],
   "source": [
    "data = {\n",
    "    'modelName': \"ml-demo-svdfea-wishlist-predictor-model\",\n",
    "    'modelOperation': 'BUILD',\n",
    "    'predictor': 'ml-demo-svdfea-wishlist-predictor',\n",
    "    'learningDaoConfig': {\n",
    "        'filePath': dataPath + \"trainRatings.tsv\",\n",
    "        'separator': '\\t',\n",
    "        'entityDaoName': 'CSVFileEntityDAO'\n",
    "    },\n",
    "    'validationDaoConfig': {\n",
    "        'filePath': dataPath + \"validRatings.tsv\",\n",
    "        'separator': '\\t',\n",
    "        'entityDaoName': 'CSVFileEntityDAO'\n",
    "    },\n",
    "    'evaluatorDaoConfig': {\n",
    "        'filePath': dataPath + \"testRatings.tsv\",\n",
    "        'separator': '\\t',\n",
    "        'entityDaoName': 'CSVFileEntityDAO'\n",
    "    }\n",
    "}\n",
    "req.post(host + 'predictor/model', json=data).content"
   ]
  },
  {
   "cell_type": "code",
   "execution_count": 155,
   "metadata": {
    "collapsed": false
   },
   "outputs": [
    {
     "data": {
      "text/plain": [
       "'{\"status\":\"success\"}'"
      ]
     },
     "execution_count": 155,
     "metadata": {},
     "output_type": "execute_result"
    }
   ],
   "source": [
    "data = {\n",
    "    'indexer': 'movieData',\n",
    "    'daoConfig': {\n",
    "        'filePath': dataPath + \"trainRatings.tsv\",\n",
    "        'separator': '\\t',\n",
    "        'entityDaoName': 'CSVFileEntityDAO'\n",
    "    }\n",
    "}\n",
    "req.post(host + 'index/data', json=data).content"
   ]
  },
  {
   "cell_type": "code",
   "execution_count": 156,
   "metadata": {
    "collapsed": false
   },
   "outputs": [
    {
     "data": {
      "text/plain": [
       "'\\ndata = {\\n    \\'indexer\\': \\'userMovieRating\\',\\n    \\'daoConfig\\': {\\n        \\'filePath\\': dataPath + \"movieRatings.tsv\",\\n        \\'separator\\': \\'\\t\\',\\n        \\'entityDaoName\\': \\'CSVFileEntityDAO\\'\\n    }\\n}\\nreq.post(host + \\'index/data\\', json=data).content\\n'"
      ]
     },
     "execution_count": 156,
     "metadata": {},
     "output_type": "execute_result"
    }
   ],
   "source": [
    "\"\"\"\n",
    "data = {\n",
    "    'indexer': 'userMovieRating',\n",
    "    'daoConfig': {\n",
    "        'filePath': dataPath + \"movieRatings.tsv\",\n",
    "        'separator': '\\t',\n",
    "        'entityDaoName': 'CSVFileEntityDAO'\n",
    "    }\n",
    "}\n",
    "req.post(host + 'index/data', json=data).content\n",
    "\"\"\""
   ]
  },
  {
   "cell_type": "code",
   "execution_count": 157,
   "metadata": {
    "collapsed": false
   },
   "outputs": [
    {
     "data": {
      "text/plain": [
       "'{\"status\":\"success\"}'"
      ]
     },
     "execution_count": 157,
     "metadata": {},
     "output_type": "execute_result"
    }
   ],
   "source": [
    "data = {\n",
    "    'modelName': \"ml-demo-funksvd-predictor-model\",\n",
    "    'modelOperation': 'BUILD',\n",
    "    'predictor': 'ml-demo-funksvd-predictor',\n",
    "    'learningDaoConfig': {\n",
    "        'entityDaoName': 'IndexerBasedDAO',\n",
    "        'indexerName': 'userMovieRating',\n",
    "        'requestContext': {\n",
    "            'beginTime': '2016-12-15 00:00:00',\n",
    "            'endTime': '2017-01-10 00:00:00'\n",
    "        }\n",
    "    },\n",
    "    'validationDaoConfig': {\n",
    "        'entityDaoName': 'IndexerBasedDAO',\n",
    "        'indexerName': 'userMovieRating',\n",
    "        'requestContext': {\n",
    "            'beginTime': '2017-01-10 00:00:00',\n",
    "            'endTime': '2017-01-17 00:00:00'\n",
    "        }\n",
    "    },\n",
    "    'evaluatorDaoConfig': {\n",
    "        'entityDaoName': 'IndexerBasedDAO',\n",
    "        'indexerName': 'userMovieRating',\n",
    "        'requestContext': {\n",
    "            'beginTime': '2017-01-10 00:00:00',\n",
    "            'endTime': '2017-01-17 00:00:00'\n",
    "        }\n",
    "    }\n",
    "}\n",
    "req.post(host + 'predictor/model', json=data).content"
   ]
  },
  {
   "cell_type": "code",
   "execution_count": 158,
   "metadata": {
    "collapsed": false
   },
   "outputs": [
    {
     "data": {
      "text/plain": [
       "'{\"status\":\"success\",\"data\":{\"metrics\":[{\"values\":[{\"metricName\":\"MAE\",\"metricPara\":{\"N\":26218},\"metricValue\":1.7127916926758509,\"engine\":\"movielens-demo\",\"config\":{\"name\":\"ml-demo-svdfea-predictor\"},\"requestContext\":\"{\\\\\"evaluator\\\\\":\\\\\"RealPredictionEvaluator\\\\\",\\\\\"predictor\\\\\":\\\\\"ml-demo-svdfea-predictor\\\\\",\\\\\"evaluatorDaoConfig\\\\\":{\\\\\"entityDaoName\\\\\":\\\\\"IndexerBasedDAO\\\\\",\\\\\"indexerName\\\\\":\\\\\"userMovieRating\\\\\",\\\\\"requestContext\\\\\":{\\\\\"endTime\\\\\":\\\\\"2017-01-17 00:00:00\\\\\",\\\\\"beginTime\\\\\":\\\\\"2017-01-10 00:00:00\\\\\"}}}\"}],\"pass\":true},{\"values\":[{\"metricName\":\"RMSE\",\"metricPara\":{\"N\":26218},\"metricValue\":2.398110964412164,\"engine\":\"movielens-demo\",\"config\":{\"name\":\"ml-demo-svdfea-predictor\"},\"requestContext\":\"{\\\\\"evaluator\\\\\":\\\\\"RealPredictionEvaluator\\\\\",\\\\\"predictor\\\\\":\\\\\"ml-demo-svdfea-predictor\\\\\",\\\\\"evaluatorDaoConfig\\\\\":{\\\\\"entityDaoName\\\\\":\\\\\"IndexerBasedDAO\\\\\",\\\\\"indexerName\\\\\":\\\\\"userMovieRating\\\\\",\\\\\"requestContext\\\\\":{\\\\\"endTime\\\\\":\\\\\"2017-01-17 00:00:00\\\\\",\\\\\"beginTime\\\\\":\\\\\"2017-01-10 00:00:00\\\\\"}}}\"}],\"pass\":true}],\"pass\":true}}'"
      ]
     },
     "execution_count": 158,
     "metadata": {},
     "output_type": "execute_result"
    }
   ],
   "source": [
    "data = {\n",
    "    'evaluator': 'RealPredictionEvaluator',\n",
    "    'predictor': 'ml-demo-svdfea-predictor',\n",
    "    'evaluatorDaoConfig': {\n",
    "        'entityDaoName': 'IndexerBasedDAO',\n",
    "        'indexerName': 'userMovieRating',\n",
    "        'requestContext': {\n",
    "            'beginTime': '2017-01-10 00:00:00',\n",
    "            'endTime': '2017-01-17 00:00:00'\n",
    "        }\n",
    "    }\n",
    "}\n",
    "req.post(host + 'evaluate', json=data).content"
   ]
  },
  {
   "cell_type": "code",
   "execution_count": 159,
   "metadata": {
    "collapsed": false
   },
   "outputs": [
    {
     "data": {
      "text/plain": [
       "'{\"status\":\"success\"}'"
      ]
     },
     "execution_count": 159,
     "metadata": {},
     "output_type": "execute_result"
    }
   ],
   "source": [
    "data = {\n",
    "    'modelName': \"ml-demo-svdfea-map-predictor-model\",\n",
    "    'modelOperation': 'BUILD',\n",
    "    'predictor': 'ml-demo-svdfea-map-predictor',\n",
    "    'recommender': 'ml-demo-svdfea-map-recommender',\n",
    "    'learningDaoConfig': {\n",
    "        'entityDaoName': 'IndexerBasedDAO',\n",
    "        'indexerName': 'groupedUserMovieRating',\n",
    "        'requestContext': {\n",
    "            'beginTime': '2016-12-15 00:00:00',\n",
    "            'endTime': '2017-01-10 00:00:00'\n",
    "        }\n",
    "    },\n",
    "    'validationDaoConfig': {\n",
    "        'entityDaoName': 'IndexerBasedDAO',\n",
    "        'indexerName': 'groupedUserMovieRating',\n",
    "        'requestContext': {\n",
    "            'beginTime': '2017-01-10 00:00:00',\n",
    "            'endTime': '2017-01-17 00:00:00'\n",
    "        }\n",
    "    },\n",
    "    'evaluatorDaoConfig': {\n",
    "        'entityDaoName': 'IndexerBasedDAO',\n",
    "        'indexerName': 'groupedUserMovieRating',\n",
    "        'requestContext': {\n",
    "            'beginTime': '2017-01-10 00:00:00',\n",
    "            'endTime': '2017-01-17 00:00:00'\n",
    "        }\n",
    "    }\n",
    "}\n",
    "req.post(host + 'predictor/model', json=data).content"
   ]
  },
  {
   "cell_type": "code",
   "execution_count": 160,
   "metadata": {
    "collapsed": false
   },
   "outputs": [
    {
     "data": {
      "text/plain": [
       "'{\"status\":\"success\"}'"
      ]
     },
     "execution_count": 160,
     "metadata": {},
     "output_type": "execute_result"
    }
   ],
   "source": [
    "data = {\n",
    "    'modelName': \"ml-demo-xgboost-predictor-model\",\n",
    "    'modelOperation': 'BUILD',\n",
    "    'predictor': 'ml-demo-xgboost-predictor',\n",
    "    'learningDaoConfig': {\n",
    "        'filePath': dataPath + \"trainRatings.tsv\",\n",
    "        'separator': '\\t',\n",
    "        'entityDaoName': 'CSVFileEntityDAO'\n",
    "    },\n",
    "    'validationDaoConfig': {\n",
    "        'filePath': dataPath + \"validRatings.tsv\",\n",
    "        'separator': '\\t',\n",
    "        'entityDaoName': 'CSVFileEntityDAO'\n",
    "    },\n",
    "    'evaluatorDaoConfig': {\n",
    "        'filePath': dataPath + \"testRatings.tsv\",\n",
    "        'separator': '\\t',\n",
    "        'entityDaoName': 'CSVFileEntityDAO'\n",
    "    }\n",
    "}\n",
    "req.post(host + 'predictor/model', json=data).content"
   ]
  },
  {
   "cell_type": "code",
   "execution_count": 161,
   "metadata": {
    "collapsed": false
   },
   "outputs": [
    {
     "data": {
      "text/plain": [
       "'{\"status\":\"success\",\"data\":{\"metrics\":[{\"values\":[{\"metricName\":\"MAE\",\"metricPara\":{\"N\":20000},\"metricValue\":1.3575798936486245,\"engine\":\"movielens-demo\",\"config\":{\"name\":\"ml-demo-xgboost-predictor\"},\"requestContext\":\"{\\\\\"evaluator\\\\\":\\\\\"RealPredictionEvaluator\\\\\",\\\\\"predictor\\\\\":\\\\\"ml-demo-xgboost-predictor\\\\\",\\\\\"evaluatorDaoConfig\\\\\":{\\\\\"entityDaoName\\\\\":\\\\\"CSVFileEntityDAO\\\\\",\\\\\"separator\\\\\":\\\\\"\\\\\\\\t\\\\\",\\\\\"filePath\\\\\":\\\\\"/opt/samantha/learning/testRatings.tsv\\\\\"}}\"}],\"pass\":true},{\"values\":[{\"metricName\":\"RMSE\",\"metricPara\":{\"N\":20000},\"metricValue\":1.9413986393318747,\"engine\":\"movielens-demo\",\"config\":{\"name\":\"ml-demo-xgboost-predictor\"},\"requestContext\":\"{\\\\\"evaluator\\\\\":\\\\\"RealPredictionEvaluator\\\\\",\\\\\"predictor\\\\\":\\\\\"ml-demo-xgboost-predictor\\\\\",\\\\\"evaluatorDaoConfig\\\\\":{\\\\\"entityDaoName\\\\\":\\\\\"CSVFileEntityDAO\\\\\",\\\\\"separator\\\\\":\\\\\"\\\\\\\\t\\\\\",\\\\\"filePath\\\\\":\\\\\"/opt/samantha/learning/testRatings.tsv\\\\\"}}\"}],\"pass\":true}],\"pass\":true}}'"
      ]
     },
     "execution_count": 161,
     "metadata": {},
     "output_type": "execute_result"
    }
   ],
   "source": [
    "data = {\n",
    "    'evaluator': 'RealPredictionEvaluator',\n",
    "    'predictor': 'ml-demo-xgboost-predictor',\n",
    "    'evaluatorDaoConfig': {\n",
    "        'filePath': dataPath + \"testRatings.tsv\",\n",
    "        'separator': '\\t',\n",
    "        'entityDaoName': 'CSVFileEntityDAO'\n",
    "    }\n",
    "}\n",
    "req.post(host + 'evaluate', json=data).content"
   ]
  },
  {
   "cell_type": "code",
   "execution_count": 162,
   "metadata": {
    "collapsed": false
   },
   "outputs": [
    {
     "data": {
      "text/plain": [
       "'{\"status\":\"success\"}'"
      ]
     },
     "execution_count": 162,
     "metadata": {},
     "output_type": "execute_result"
    }
   ],
   "source": [
    "data = {\n",
    "    'modelName': \"ml-demo-xgboost-ensemble-predictor-model\",\n",
    "    'modelOperation': 'BUILD',\n",
    "    'predictor': 'ml-demo-xgboost-ensemble-predictor',\n",
    "    'learningDaoConfig': {\n",
    "        'filePath': dataPath + \"trainRatings.tsv\",\n",
    "        'separator': '\\t',\n",
    "        'entityDaoName': 'CSVFileEntityDAO'\n",
    "    },\n",
    "    'validationDaoConfig': {\n",
    "        'filePath': dataPath + \"validRatings.tsv\",\n",
    "        'separator': '\\t',\n",
    "        'entityDaoName': 'CSVFileEntityDAO'\n",
    "    },\n",
    "    'evaluatorDaoConfig': {\n",
    "        'filePath': dataPath + \"testRatings.tsv\",\n",
    "        'separator': '\\t',\n",
    "        'entityDaoName': 'CSVFileEntityDAO'\n",
    "    }\n",
    "}\n",
    "req.post(host + 'predictor/model', json=data).content"
   ]
  },
  {
   "cell_type": "code",
   "execution_count": 163,
   "metadata": {
    "collapsed": false
   },
   "outputs": [
    {
     "data": {
      "text/plain": [
       "'{\"status\":\"success\",\"data\":{\"metrics\":[{\"values\":[{\"metricName\":\"MAE\",\"metricPara\":{\"N\":20000},\"metricValue\":1.353468764346838,\"engine\":\"movielens-demo\",\"config\":{\"name\":\"ml-demo-xgboost-ensemble-predictor\"},\"requestContext\":\"{\\\\\"evaluator\\\\\":\\\\\"RealPredictionEvaluator\\\\\",\\\\\"predictor\\\\\":\\\\\"ml-demo-xgboost-ensemble-predictor\\\\\",\\\\\"evaluatorDaoConfig\\\\\":{\\\\\"entityDaoName\\\\\":\\\\\"CSVFileEntityDAO\\\\\",\\\\\"separator\\\\\":\\\\\"\\\\\\\\t\\\\\",\\\\\"filePath\\\\\":\\\\\"/opt/samantha/learning/testRatings.tsv\\\\\"}}\"}],\"pass\":true},{\"values\":[{\"metricName\":\"RMSE\",\"metricPara\":{\"N\":20000},\"metricValue\":1.9303036668869027,\"engine\":\"movielens-demo\",\"config\":{\"name\":\"ml-demo-xgboost-ensemble-predictor\"},\"requestContext\":\"{\\\\\"evaluator\\\\\":\\\\\"RealPredictionEvaluator\\\\\",\\\\\"predictor\\\\\":\\\\\"ml-demo-xgboost-ensemble-predictor\\\\\",\\\\\"evaluatorDaoConfig\\\\\":{\\\\\"entityDaoName\\\\\":\\\\\"CSVFileEntityDAO\\\\\",\\\\\"separator\\\\\":\\\\\"\\\\\\\\t\\\\\",\\\\\"filePath\\\\\":\\\\\"/opt/samantha/learning/testRatings.tsv\\\\\"}}\"}],\"pass\":true}],\"pass\":true}}'"
      ]
     },
     "execution_count": 163,
     "metadata": {},
     "output_type": "execute_result"
    }
   ],
   "source": [
    "data = {\n",
    "    'evaluator': 'RealPredictionEvaluator',\n",
    "    'predictor': 'ml-demo-xgboost-ensemble-predictor',\n",
    "    'evaluatorDaoConfig': {\n",
    "        'filePath': dataPath + \"testRatings.tsv\",\n",
    "        'separator': '\\t',\n",
    "        'entityDaoName': 'CSVFileEntityDAO'\n",
    "    }\n",
    "}\n",
    "req.post(host + 'evaluate', json=data).content"
   ]
  },
  {
   "cell_type": "code",
   "execution_count": 164,
   "metadata": {
    "collapsed": false
   },
   "outputs": [
    {
     "data": {
      "text/plain": [
       "'{\"status\":\"success\"}'"
      ]
     },
     "execution_count": 164,
     "metadata": {},
     "output_type": "execute_result"
    }
   ],
   "source": [
    "data = {\n",
    "    'modelName': \"ml-demo-item-knn-model\",\n",
    "    'modelOperation': 'BUILD',\n",
    "    'retriever': 'RedisMovieRetriever',\n",
    "}\n",
    "req.post(host + 'retriever/model', json=data).content"
   ]
  },
  {
   "cell_type": "code",
   "execution_count": 165,
   "metadata": {
    "collapsed": false
   },
   "outputs": [
    {
     "data": {
      "text/plain": [
       "'{\"status\":\"success\",\"data\":{\"recommendations\":{\"limit\":24,\"offset\":0,\"maxHits\":2750,\"ranking\":[{\"score\":2.9186460403717946,\"attributes\":{\"support\":396.0,\"movieId\":\"162376\",\"userId\":296986},\"instance\":\"rO0ABXNyADxvcmcuZ3JvdXBsZW5zLnNhbWFudGhhLm1vZGVsZXIuc3ZkZmVhdHVyZS5TVkRGZWF0dXJlSW5zdGFuY2UAAAAAAAAAAQIABUQABWxhYmVsRAAGd2VpZ2h0TAAFZ2ZlYXN0ABBMamF2YS91dGlsL0xpc3Q7TAAFaWZlYXNxAH4AAUwABXVmZWFzcQB+AAF4cgBCb3JnLmdyb3VwbGVucy5zYW1hbnRoYS5tb2RlbGVyLmZlYXR1cml6ZXIuQWJzdHJhY3RMZWFybmluZ0luc3RhbmNlHJRin5RSUkgCAAFMAAVncm91cHQAEkxqYXZhL2xhbmcvU3RyaW5nO3hwcAAAAAAAAAAAP/AAAAAAAABzcgATamF2YS51dGlsLkFycmF5TGlzdHiB0h2Zx2GdAwABSQAEc2l6ZXhwAAAAA3cEAAAAA3NyADFvcmcuZ3JvdXBsZW5zLnNhbWFudGhhLm1vZGVsZXIuZmVhdHVyaXplci5GZWF0dXJlqBau7Pp4F/YCAAJJAAVpbmRleEQABXZhbHVleHAAAAAAP/AAAAAAAABzcQB+AAcAAAABP/AAAAAAAABzcQB+AAcAAADBP/AAAAAAAAB4c3EAfgAFAAAAAXcEAAAAAXNxAH4ABwAAAMA/8AAAAAAAAHhzcQB+AAUAAAABdwQAAAABc3EAfgAHAAAAAD/wAAAAAAAAeA==\"},{\"score\":2.754156009767822,\"attributes\":{\"support\":826.0,\"movieId\":\"7153\",\"userId\":296986},\"instance\":\"rO0ABXNyADxvcmcuZ3JvdXBsZW5zLnNhbWFudGhhLm1vZGVsZXIuc3ZkZmVhdHVyZS5TVkRGZWF0dXJlSW5zdGFuY2UAAAAAAAAAAQIABUQABWxhYmVsRAAGd2VpZ2h0TAAFZ2ZlYXN0ABBMamF2YS91dGlsL0xpc3Q7TAAFaWZlYXNxAH4AAUwABXVmZWFzcQB+AAF4cgBCb3JnLmdyb3VwbGVucy5zYW1hbnRoYS5tb2RlbGVyLmZlYXR1cml6ZXIuQWJzdHJhY3RMZWFybmluZ0luc3RhbmNlHJRin5RSUkgCAAFMAAVncm91cHQAEkxqYXZhL2xhbmcvU3RyaW5nO3hwcAAAAAAAAAAAP/AAAAAAAABzcgATamF2YS51dGlsLkFycmF5TGlzdHiB0h2Zx2GdAwABSQAEc2l6ZXhwAAAAA3cEAAAAA3NyADFvcmcuZ3JvdXBsZW5zLnNhbWFudGhhLm1vZGVsZXIuZmVhdHVyaXplci5GZWF0dXJlqBau7Pp4F/YCAAJJAAVpbmRleEQABXZhbHVleHAAAAAAP/AAAAAAAABzcQB+AAcAAAABP/AAAAAAAABzcQB+AAcAAAHTP/AAAAAAAAB4c3EAfgAFAAAAAXcEAAAAAXNxAH4ABwAAAc8/8AAAAAAAAHhzcQB+AAUAAAABdwQAAAABc3EAfgAHAAAAAD/wAAAAAAAAeA==\"},{\"score\":2.7437931232485817,\"attributes\":{\"support\":940.0,\"movieId\":\"79132\",\"userId\":296986},\"instance\":\"rO0ABXNyADxvcmcuZ3JvdXBsZW5zLnNhbWFudGhhLm1vZGVsZXIuc3ZkZmVhdHVyZS5TVkRGZWF0dXJlSW5zdGFuY2UAAAAAAAAAAQIABUQABWxhYmVsRAAGd2VpZ2h0TAAFZ2ZlYXN0ABBMamF2YS91dGlsL0xpc3Q7TAAFaWZlYXNxAH4AAUwABXVmZWFzcQB+AAF4cgBCb3JnLmdyb3VwbGVucy5zYW1hbnRoYS5tb2RlbGVyLmZlYXR1cml6ZXIuQWJzdHJhY3RMZWFybmluZ0luc3RhbmNlHJRin5RSUkgCAAFMAAVncm91cHQAEkxqYXZhL2xhbmcvU3RyaW5nO3hwcAAAAAAAAAAAP/AAAAAAAABzcgATamF2YS51dGlsLkFycmF5TGlzdHiB0h2Zx2GdAwABSQAEc2l6ZXhwAAAAA3cEAAAAA3NyADFvcmcuZ3JvdXBsZW5zLnNhbWFudGhhLm1vZGVsZXIuZmVhdHVyaXplci5GZWF0dXJlqBau7Pp4F/YCAAJJAAVpbmRleEQABXZhbHVleHAAAAAAP/AAAAAAAABzcQB+AAcAAAABP/AAAAAAAABzcQB+AAcAAAELP/AAAAAAAAB4c3EAfgAFAAAAAXcEAAAAAXNxAH4ABwAAAQo/8AAAAAAAAHhzcQB+AAUAAAABdwQAAAABc3EAfgAHAAAAAD/wAAAAAAAAeA==\"},{\"score\":2.71778358477856,\"attributes\":{\"support\":684.0,\"movieId\":\"296\",\"userId\":296986},\"instance\":\"rO0ABXNyADxvcmcuZ3JvdXBsZW5zLnNhbWFudGhhLm1vZGVsZXIuc3ZkZmVhdHVyZS5TVkRGZWF0dXJlSW5zdGFuY2UAAAAAAAAAAQIABUQABWxhYmVsRAAGd2VpZ2h0TAAFZ2ZlYXN0ABBMamF2YS91dGlsL0xpc3Q7TAAFaWZlYXNxAH4AAUwABXVmZWFzcQB+AAF4cgBCb3JnLmdyb3VwbGVucy5zYW1hbnRoYS5tb2RlbGVyLmZlYXR1cml6ZXIuQWJzdHJhY3RMZWFybmluZ0luc3RhbmNlHJRin5RSUkgCAAFMAAVncm91cHQAEkxqYXZhL2xhbmcvU3RyaW5nO3hwcAAAAAAAAAAAP/AAAAAAAABzcgATamF2YS51dGlsLkFycmF5TGlzdHiB0h2Zx2GdAwABSQAEc2l6ZXhwAAAAA3cEAAAAA3NyADFvcmcuZ3JvdXBsZW5zLnNhbWFudGhhLm1vZGVsZXIuZmVhdHVyaXplci5GZWF0dXJlqBau7Pp4F/YCAAJJAAVpbmRleEQABXZhbHVleHAAAAAAP/AAAAAAAABzcQB+AAcAAAABP/AAAAAAAABzcQB+AAcAAACHP/AAAAAAAAB4c3EAfgAFAAAAAXcEAAAAAXNxAH4ABwAAAIY/8AAAAAAAAHhzcQB+AAUAAAABdwQAAAABc3EAfgAHAAAAAD/wAAAAAAAAeA==\"},{\"score\":2.714102966992774,\"attributes\":{\"support\":992.0,\"movieId\":\"2571\",\"userId\":296986},\"instance\":\"rO0ABXNyADxvcmcuZ3JvdXBsZW5zLnNhbWFudGhhLm1vZGVsZXIuc3ZkZmVhdHVyZS5TVkRGZWF0dXJlSW5zdGFuY2UAAAAAAAAAAQIABUQABWxhYmVsRAAGd2VpZ2h0TAAFZ2ZlYXN0ABBMamF2YS91dGlsL0xpc3Q7TAAFaWZlYXNxAH4AAUwABXVmZWFzcQB+AAF4cgBCb3JnLmdyb3VwbGVucy5zYW1hbnRoYS5tb2RlbGVyLmZlYXR1cml6ZXIuQWJzdHJhY3RMZWFybmluZ0luc3RhbmNlHJRin5RSUkgCAAFMAAVncm91cHQAEkxqYXZhL2xhbmcvU3RyaW5nO3hwcAAAAAAAAAAAP/AAAAAAAABzcgATamF2YS51dGlsLkFycmF5TGlzdHiB0h2Zx2GdAwABSQAEc2l6ZXhwAAAAA3cEAAAAA3NyADFvcmcuZ3JvdXBsZW5zLnNhbWFudGhhLm1vZGVsZXIuZmVhdHVyaXplci5GZWF0dXJlqBau7Pp4F/YCAAJJAAVpbmRleEQABXZhbHVleHAAAAAAP/AAAAAAAABzcQB+AAcAAAABP/AAAAAAAABzcQB+AAcAAAC1P/AAAAAAAAB4c3EAfgAFAAAAAXcEAAAAAXNxAH4ABwAAALQ/8AAAAAAAAHhzcQB+AAUAAAABdwQAAAABc3EAfgAHAAAAAD/wAAAAAAAAeA==\"},{\"score\":2.685615212667972,\"attributes\":{\"support\":770.0,\"movieId\":\"356\",\"userId\":296986},\"instance\":\"rO0ABXNyADxvcmcuZ3JvdXBsZW5zLnNhbWFudGhhLm1vZGVsZXIuc3ZkZmVhdHVyZS5TVkRGZWF0dXJlSW5zdGFuY2UAAAAAAAAAAQIABUQABWxhYmVsRAAGd2VpZ2h0TAAFZ2ZlYXN0ABBMamF2YS91dGlsL0xpc3Q7TAAFaWZlYXNxAH4AAUwABXVmZWFzcQB+AAF4cgBCb3JnLmdyb3VwbGVucy5zYW1hbnRoYS5tb2RlbGVyLmZlYXR1cml6ZXIuQWJzdHJhY3RMZWFybmluZ0luc3RhbmNlHJRin5RSUkgCAAFMAAVncm91cHQAEkxqYXZhL2xhbmcvU3RyaW5nO3hwcAAAAAAAAAAAP/AAAAAAAABzcgATamF2YS51dGlsLkFycmF5TGlzdHiB0h2Zx2GdAwABSQAEc2l6ZXhwAAAAA3cEAAAAA3NyADFvcmcuZ3JvdXBsZW5zLnNhbWFudGhhLm1vZGVsZXIuZmVhdHVyaXplci5GZWF0dXJlqBau7Pp4F/YCAAJJAAVpbmRleEQABXZhbHVleHAAAAAAP/AAAAAAAABzcQB+AAcAAAABP/AAAAAAAABzcQB+AAcAAADFP/AAAAAAAAB4c3EAfgAFAAAAAXcEAAAAAXNxAH4ABwAAAMQ/8AAAAAAAAHhzcQB+AAUAAAABdwQAAAABc3EAfgAHAAAAAD/wAAAAAAAAeA==\"},{\"score\":2.681380241165325,\"attributes\":{\"support\":556.0,\"movieId\":\"60069\",\"userId\":296986},\"instance\":\"rO0ABXNyADxvcmcuZ3JvdXBsZW5zLnNhbWFudGhhLm1vZGVsZXIuc3ZkZmVhdHVyZS5TVkRGZWF0dXJlSW5zdGFuY2UAAAAAAAAAAQIABUQABWxhYmVsRAAGd2VpZ2h0TAAFZ2ZlYXN0ABBMamF2YS91dGlsL0xpc3Q7TAAFaWZlYXNxAH4AAUwABXVmZWFzcQB+AAF4cgBCb3JnLmdyb3VwbGVucy5zYW1hbnRoYS5tb2RlbGVyLmZlYXR1cml6ZXIuQWJzdHJhY3RMZWFybmluZ0luc3RhbmNlHJRin5RSUkgCAAFMAAVncm91cHQAEkxqYXZhL2xhbmcvU3RyaW5nO3hwcAAAAAAAAAAAP/AAAAAAAABzcgATamF2YS51dGlsLkFycmF5TGlzdHiB0h2Zx2GdAwABSQAEc2l6ZXhwAAAAA3cEAAAAA3NyADFvcmcuZ3JvdXBsZW5zLnNhbWFudGhhLm1vZGVsZXIuZmVhdHVyaXplci5GZWF0dXJlqBau7Pp4F/YCAAJJAAVpbmRleEQABXZhbHVleHAAAAAAP/AAAAAAAABzcQB+AAcAAAABP/AAAAAAAABzcQB+AAcAAAD9P/AAAAAAAAB4c3EAfgAFAAAAAXcEAAAAAXNxAH4ABwAAAPw/8AAAAAAAAHhzcQB+AAUAAAABdwQAAAABc3EAfgAHAAAAAD/wAAAAAAAAeA==\"},{\"score\":2.6772918842606193,\"attributes\":{\"support\":722.0,\"movieId\":\"5952\",\"userId\":296986},\"instance\":\"rO0ABXNyADxvcmcuZ3JvdXBsZW5zLnNhbWFudGhhLm1vZGVsZXIuc3ZkZmVhdHVyZS5TVkRGZWF0dXJlSW5zdGFuY2UAAAAAAAAAAQIABUQABWxhYmVsRAAGd2VpZ2h0TAAFZ2ZlYXN0ABBMamF2YS91dGlsL0xpc3Q7TAAFaWZlYXNxAH4AAUwABXVmZWFzcQB+AAF4cgBCb3JnLmdyb3VwbGVucy5zYW1hbnRoYS5tb2RlbGVyLmZlYXR1cml6ZXIuQWJzdHJhY3RMZWFybmluZ0luc3RhbmNlHJRin5RSUkgCAAFMAAVncm91cHQAEkxqYXZhL2xhbmcvU3RyaW5nO3hwcAAAAAAAAAAAP/AAAAAAAABzcgATamF2YS51dGlsLkFycmF5TGlzdHiB0h2Zx2GdAwABSQAEc2l6ZXhwAAAAA3cEAAAAA3NyADFvcmcuZ3JvdXBsZW5zLnNhbWFudGhhLm1vZGVsZXIuZmVhdHVyaXplci5GZWF0dXJlqBau7Pp4F/YCAAJJAAVpbmRleEQABXZhbHVleHAAAAAAP/AAAAAAAABzcQB+AAcAAAABP/AAAAAAAABzcQB+AAcAAADbP/AAAAAAAAB4c3EAfgAFAAAAAXcEAAAAAXNxAH4ABwAAANo/8AAAAAAAAHhzcQB+AAUAAAABdwQAAAABc3EAfgAHAAAAAD/wAAAAAAAAeA==\"},{\"score\":2.6607530484611845,\"attributes\":{\"support\":536.0,\"movieId\":\"1704\",\"userId\":296986},\"instance\":\"rO0ABXNyADxvcmcuZ3JvdXBsZW5zLnNhbWFudGhhLm1vZGVsZXIuc3ZkZmVhdHVyZS5TVkRGZWF0dXJlSW5zdGFuY2UAAAAAAAAAAQIABUQABWxhYmVsRAAGd2VpZ2h0TAAFZ2ZlYXN0ABBMamF2YS91dGlsL0xpc3Q7TAAFaWZlYXNxAH4AAUwABXVmZWFzcQB+AAF4cgBCb3JnLmdyb3VwbGVucy5zYW1hbnRoYS5tb2RlbGVyLmZlYXR1cml6ZXIuQWJzdHJhY3RMZWFybmluZ0luc3RhbmNlHJRin5RSUkgCAAFMAAVncm91cHQAEkxqYXZhL2xhbmcvU3RyaW5nO3hwcAAAAAAAAAAAP/AAAAAAAABzcgATamF2YS51dGlsLkFycmF5TGlzdHiB0h2Zx2GdAwABSQAEc2l6ZXhwAAAAA3cEAAAAA3NyADFvcmcuZ3JvdXBsZW5zLnNhbWFudGhhLm1vZGVsZXIuZmVhdHVyaXplci5GZWF0dXJlqBau7Pp4F/YCAAJJAAVpbmRleEQABXZhbHVleHAAAAAAP/AAAAAAAABzcQB+AAcAAAABP/AAAAAAAABzcQB+AAcAAADNP/AAAAAAAAB4c3EAfgAFAAAAAXcEAAAAAXNxAH4ABwAAAMw/8AAAAAAAAHhzcQB+AAUAAAABdwQAAAABc3EAfgAHAAAAAD/wAAAAAAAAeA==\"},{\"score\":2.6350378031999875,\"attributes\":{\"support\":772.0,\"movieId\":\"4993\",\"userId\":296986},\"instance\":\"rO0ABXNyADxvcmcuZ3JvdXBsZW5zLnNhbWFudGhhLm1vZGVsZXIuc3ZkZmVhdHVyZS5TVkRGZWF0dXJlSW5zdGFuY2UAAAAAAAAAAQIABUQABWxhYmVsRAAGd2VpZ2h0TAAFZ2ZlYXN0ABBMamF2YS91dGlsL0xpc3Q7TAAFaWZlYXNxAH4AAUwABXVmZWFzcQB+AAF4cgBCb3JnLmdyb3VwbGVucy5zYW1hbnRoYS5tb2RlbGVyLmZlYXR1cml6ZXIuQWJzdHJhY3RMZWFybmluZ0luc3RhbmNlHJRin5RSUkgCAAFMAAVncm91cHQAEkxqYXZhL2xhbmcvU3RyaW5nO3hwcAAAAAAAAAAAP/AAAAAAAABzcgATamF2YS51dGlsLkFycmF5TGlzdHiB0h2Zx2GdAwABSQAEc2l6ZXhwAAAAA3cEAAAAA3NyADFvcmcuZ3JvdXBsZW5zLnNhbWFudGhhLm1vZGVsZXIuZmVhdHVyaXplci5GZWF0dXJlqBau7Pp4F/YCAAJJAAVpbmRleEQABXZhbHVleHAAAAAAP/AAAAAAAABzcQB+AAcAAAABP/AAAAAAAABzcQB+AAcAAAGlP/AAAAAAAAB4c3EAfgAFAAAAAXcEAAAAAXNxAH4ABwAAAaE/8AAAAAAAAHhzcQB+AAUAAAABdwQAAAABc3EAfgAHAAAAAD/wAAAAAAAAeA==\"},{\"score\":2.6276304753524604,\"attributes\":{\"support\":610.0,\"movieId\":\"68954\",\"userId\":296986},\"instance\":\"rO0ABXNyADxvcmcuZ3JvdXBsZW5zLnNhbWFudGhhLm1vZGVsZXIuc3ZkZmVhdHVyZS5TVkRGZWF0dXJlSW5zdGFuY2UAAAAAAAAAAQIABUQABWxhYmVsRAAGd2VpZ2h0TAAFZ2ZlYXN0ABBMamF2YS91dGlsL0xpc3Q7TAAFaWZlYXNxAH4AAUwABXVmZWFzcQB+AAF4cgBCb3JnLmdyb3VwbGVucy5zYW1hbnRoYS5tb2RlbGVyLmZlYXR1cml6ZXIuQWJzdHJhY3RMZWFybmluZ0luc3RhbmNlHJRin5RSUkgCAAFMAAVncm91cHQAEkxqYXZhL2xhbmcvU3RyaW5nO3hwcAAAAAAAAAAAP/AAAAAAAABzcgATamF2YS51dGlsLkFycmF5TGlzdHiB0h2Zx2GdAwABSQAEc2l6ZXhwAAAAA3cEAAAAA3NyADFvcmcuZ3JvdXBsZW5zLnNhbWFudGhhLm1vZGVsZXIuZmVhdHVyaXplci5GZWF0dXJlqBau7Pp4F/YCAAJJAAVpbmRleEQABXZhbHVleHAAAAAAP/AAAAAAAABzcQB+AAcAAAABP/AAAAAAAABzcQB+AAcAAAECP/AAAAAAAAB4c3EAfgAFAAAAAXcEAAAAAXNxAH4ABwAAAQE/8AAAAAAAAHhzcQB+AAUAAAABdwQAAAABc3EAfgAHAAAAAD/wAAAAAAAAeA==\"},{\"score\":2.6213221838028447,\"attributes\":{\"support\":408.0,\"movieId\":\"4973\",\"userId\":296986},\"instance\":\"rO0ABXNyADxvcmcuZ3JvdXBsZW5zLnNhbWFudGhhLm1vZGVsZXIuc3ZkZmVhdHVyZS5TVkRGZWF0dXJlSW5zdGFuY2UAAAAAAAAAAQIABUQABWxhYmVsRAAGd2VpZ2h0TAAFZ2ZlYXN0ABBMamF2YS91dGlsL0xpc3Q7TAAFaWZlYXNxAH4AAUwABXVmZWFzcQB+AAF4cgBCb3JnLmdyb3VwbGVucy5zYW1hbnRoYS5tb2RlbGVyLmZlYXR1cml6ZXIuQWJzdHJhY3RMZWFybmluZ0luc3RhbmNlHJRin5RSUkgCAAFMAAVncm91cHQAEkxqYXZhL2xhbmcvU3RyaW5nO3hwcAAAAAAAAAAAP/AAAAAAAABzcgATamF2YS51dGlsLkFycmF5TGlzdHiB0h2Zx2GdAwABSQAEc2l6ZXhwAAAAA3cEAAAAA3NyADFvcmcuZ3JvdXBsZW5zLnNhbWFudGhhLm1vZGVsZXIuZmVhdHVyaXplci5GZWF0dXJlqBau7Pp4F/YCAAJJAAVpbmRleEQABXZhbHVleHAAAAAAP/AAAAAAAABzcQB+AAcAAAABP/AAAAAAAABzcQB+AAcAAAGjP/AAAAAAAAB4c3EAfgAFAAAAAXcEAAAAAXNxAH4ABwAAAZ8/8AAAAAAAAHhzcQB+AAUAAAABdwQAAAABc3EAfgAHAAAAAD/wAAAAAAAAeA==\"},{\"score\":2.6203849874446794,\"attributes\":{\"support\":772.0,\"movieId\":\"58559\",\"userId\":296986},\"instance\":\"rO0ABXNyADxvcmcuZ3JvdXBsZW5zLnNhbWFudGhhLm1vZGVsZXIuc3ZkZmVhdHVyZS5TVkRGZWF0dXJlSW5zdGFuY2UAAAAAAAAAAQIABUQABWxhYmVsRAAGd2VpZ2h0TAAFZ2ZlYXN0ABBMamF2YS91dGlsL0xpc3Q7TAAFaWZlYXNxAH4AAUwABXVmZWFzcQB+AAF4cgBCb3JnLmdyb3VwbGVucy5zYW1hbnRoYS5tb2RlbGVyLmZlYXR1cml6ZXIuQWJzdHJhY3RMZWFybmluZ0luc3RhbmNlHJRin5RSUkgCAAFMAAVncm91cHQAEkxqYXZhL2xhbmcvU3RyaW5nO3hwcAAAAAAAAAAAP/AAAAAAAABzcgATamF2YS51dGlsLkFycmF5TGlzdHiB0h2Zx2GdAwABSQAEc2l6ZXhwAAAAA3cEAAAAA3NyADFvcmcuZ3JvdXBsZW5zLnNhbWFudGhhLm1vZGVsZXIuZmVhdHVyaXplci5GZWF0dXJlqBau7Pp4F/YCAAJJAAVpbmRleEQABXZhbHVleHAAAAAAP/AAAAAAAABzcQB+AAcAAAABP/AAAAAAAABzcQB+AAcAAAD7P/AAAAAAAAB4c3EAfgAFAAAAAXcEAAAAAXNxAH4ABwAAAPo/8AAAAAAAAHhzcQB+AAUAAAABdwQAAAABc3EAfgAHAAAAAD/wAAAAAAAAeA==\"},{\"score\":2.617805081656624,\"attributes\":{\"support\":400.0,\"movieId\":\"1682\",\"userId\":296986},\"instance\":\"rO0ABXNyADxvcmcuZ3JvdXBsZW5zLnNhbWFudGhhLm1vZGVsZXIuc3ZkZmVhdHVyZS5TVkRGZWF0dXJlSW5zdGFuY2UAAAAAAAAAAQIABUQABWxhYmVsRAAGd2VpZ2h0TAAFZ2ZlYXN0ABBMamF2YS91dGlsL0xpc3Q7TAAFaWZlYXNxAH4AAUwABXVmZWFzcQB+AAF4cgBCb3JnLmdyb3VwbGVucy5zYW1hbnRoYS5tb2RlbGVyLmZlYXR1cml6ZXIuQWJzdHJhY3RMZWFybmluZ0luc3RhbmNlHJRin5RSUkgCAAFMAAVncm91cHQAEkxqYXZhL2xhbmcvU3RyaW5nO3hwcAAAAAAAAAAAP/AAAAAAAABzcgATamF2YS51dGlsLkFycmF5TGlzdHiB0h2Zx2GdAwABSQAEc2l6ZXhwAAAAA3cEAAAAA3NyADFvcmcuZ3JvdXBsZW5zLnNhbWFudGhhLm1vZGVsZXIuZmVhdHVyaXplci5GZWF0dXJlqBau7Pp4F/YCAAJJAAVpbmRleEQABXZhbHVleHAAAAAAP/AAAAAAAABzcQB+AAcAAAABP/AAAAAAAABzcQB+AAcAAADMP/AAAAAAAAB4c3EAfgAFAAAAAXcEAAAAAXNxAH4ABwAAAMs/8AAAAAAAAHhzcQB+AAUAAAABdwQAAAABc3EAfgAHAAAAAD/wAAAAAAAAeA==\"},{\"score\":2.6177270933286816,\"attributes\":{\"support\":304.0,\"movieId\":\"4963\",\"userId\":296986},\"instance\":\"rO0ABXNyADxvcmcuZ3JvdXBsZW5zLnNhbWFudGhhLm1vZGVsZXIuc3ZkZmVhdHVyZS5TVkRGZWF0dXJlSW5zdGFuY2UAAAAAAAAAAQIABUQABWxhYmVsRAAGd2VpZ2h0TAAFZ2ZlYXN0ABBMamF2YS91dGlsL0xpc3Q7TAAFaWZlYXNxAH4AAUwABXVmZWFzcQB+AAF4cgBCb3JnLmdyb3VwbGVucy5zYW1hbnRoYS5tb2RlbGVyLmZlYXR1cml6ZXIuQWJzdHJhY3RMZWFybmluZ0luc3RhbmNlHJRin5RSUkgCAAFMAAVncm91cHQAEkxqYXZhL2xhbmcvU3RyaW5nO3hwcAAAAAAAAAAAP/AAAAAAAABzcgATamF2YS51dGlsLkFycmF5TGlzdHiB0h2Zx2GdAwABSQAEc2l6ZXhwAAAAA3cEAAAAA3NyADFvcmcuZ3JvdXBsZW5zLnNhbWFudGhhLm1vZGVsZXIuZmVhdHVyaXplci5GZWF0dXJlqBau7Pp4F/YCAAJJAAVpbmRleEQABXZhbHVleHAAAAAAP/AAAAAAAABzcQB+AAcAAAABP/AAAAAAAABzcQB+AAcAAAGiP/AAAAAAAAB4c3EAfgAFAAAAAXcEAAAAAXNxAH4ABwAAAZ4/8AAAAAAAAHhzcQB+AAUAAAABdwQAAAABc3EAfgAHAAAAAD/wAAAAAAAAeA==\"},{\"score\":2.610228363421325,\"attributes\":{\"support\":302.0,\"movieId\":\"1136\",\"userId\":296986},\"instance\":\"rO0ABXNyADxvcmcuZ3JvdXBsZW5zLnNhbWFudGhhLm1vZGVsZXIuc3ZkZmVhdHVyZS5TVkRGZWF0dXJlSW5zdGFuY2UAAAAAAAAAAQIABUQABWxhYmVsRAAGd2VpZ2h0TAAFZ2ZlYXN0ABBMamF2YS91dGlsL0xpc3Q7TAAFaWZlYXNxAH4AAUwABXVmZWFzcQB+AAF4cgBCb3JnLmdyb3VwbGVucy5zYW1hbnRoYS5tb2RlbGVyLmZlYXR1cml6ZXIuQWJzdHJhY3RMZWFybmluZ0luc3RhbmNlHJRin5RSUkgCAAFMAAVncm91cHQAEkxqYXZhL2xhbmcvU3RyaW5nO3hwcAAAAAAAAAAAP/AAAAAAAABzcgATamF2YS51dGlsLkFycmF5TGlzdHiB0h2Zx2GdAwABSQAEc2l6ZXhwAAAAA3cEAAAAA3NyADFvcmcuZ3JvdXBsZW5zLnNhbWFudGhhLm1vZGVsZXIuZmVhdHVyaXplci5GZWF0dXJlqBau7Pp4F/YCAAJJAAVpbmRleEQABXZhbHVleHAAAAAAP/AAAAAAAABzcQB+AAcAAAABP/AAAAAAAABzcQB+AAcAAACVP/AAAAAAAAB4c3EAfgAFAAAAAXcEAAAAAXNxAH4ABwAAAJQ/8AAAAAAAAHhzcQB+AAUAAAABdwQAAAABc3EAfgAHAAAAAD/wAAAAAAAAeA==\"},{\"score\":2.6052254095651506,\"attributes\":{\"support\":412.0,\"movieId\":\"112852\",\"userId\":296986},\"instance\":\"rO0ABXNyADxvcmcuZ3JvdXBsZW5zLnNhbWFudGhhLm1vZGVsZXIuc3ZkZmVhdHVyZS5TVkRGZWF0dXJlSW5zdGFuY2UAAAAAAAAAAQIABUQABWxhYmVsRAAGd2VpZ2h0TAAFZ2ZlYXN0ABBMamF2YS91dGlsL0xpc3Q7TAAFaWZlYXNxAH4AAUwABXVmZWFzcQB+AAF4cgBCb3JnLmdyb3VwbGVucy5zYW1hbnRoYS5tb2RlbGVyLmZlYXR1cml6ZXIuQWJzdHJhY3RMZWFybmluZ0luc3RhbmNlHJRin5RSUkgCAAFMAAVncm91cHQAEkxqYXZhL2xhbmcvU3RyaW5nO3hwcAAAAAAAAAAAP/AAAAAAAABzcgATamF2YS51dGlsLkFycmF5TGlzdHiB0h2Zx2GdAwABSQAEc2l6ZXhwAAAAA3cEAAAAA3NyADFvcmcuZ3JvdXBsZW5zLnNhbWFudGhhLm1vZGVsZXIuZmVhdHVyaXplci5GZWF0dXJlqBau7Pp4F/YCAAJJAAVpbmRleEQABXZhbHVleHAAAAAAP/AAAAAAAABzcQB+AAcAAAABP/AAAAAAAABzcQB+AAcAAAA/P/AAAAAAAAB4c3EAfgAFAAAAAXcEAAAAAXNxAH4ABwAAAD4/8AAAAAAAAHhzcQB+AAUAAAABdwQAAAABc3EAfgAHAAAAAD/wAAAAAAAAeA==\"},{\"score\":2.6050771215972666,\"attributes\":{\"support\":416.0,\"movieId\":\"4226\",\"userId\":296986},\"instance\":\"rO0ABXNyADxvcmcuZ3JvdXBsZW5zLnNhbWFudGhhLm1vZGVsZXIuc3ZkZmVhdHVyZS5TVkRGZWF0dXJlSW5zdGFuY2UAAAAAAAAAAQIABUQABWxhYmVsRAAGd2VpZ2h0TAAFZ2ZlYXN0ABBMamF2YS91dGlsL0xpc3Q7TAAFaWZlYXNxAH4AAUwABXVmZWFzcQB+AAF4cgBCb3JnLmdyb3VwbGVucy5zYW1hbnRoYS5tb2RlbGVyLmZlYXR1cml6ZXIuQWJzdHJhY3RMZWFybmluZ0luc3RhbmNlHJRin5RSUkgCAAFMAAVncm91cHQAEkxqYXZhL2xhbmcvU3RyaW5nO3hwcAAAAAAAAAAAP/AAAAAAAABzcgATamF2YS51dGlsLkFycmF5TGlzdHiB0h2Zx2GdAwABSQAEc2l6ZXhwAAAAA3cEAAAAA3NyADFvcmcuZ3JvdXBsZW5zLnNhbWFudGhhLm1vZGVsZXIuZmVhdHVyaXplci5GZWF0dXJlqBau7Pp4F/YCAAJJAAVpbmRleEQABXZhbHVleHAAAAAAP/AAAAAAAABzcQB+AAcAAAABP/AAAAAAAABzcQB+AAcAAAC6P/AAAAAAAAB4c3EAfgAFAAAAAXcEAAAAAXNxAH4ABwAAALk/8AAAAAAAAHhzcQB+AAUAAAABdwQAAAABc3EAfgAHAAAAAD/wAAAAAAAAeA==\"},{\"score\":2.602862185960831,\"attributes\":{\"support\":300.0,\"movieId\":\"1732\",\"userId\":296986},\"instance\":\"rO0ABXNyADxvcmcuZ3JvdXBsZW5zLnNhbWFudGhhLm1vZGVsZXIuc3ZkZmVhdHVyZS5TVkRGZWF0dXJlSW5zdGFuY2UAAAAAAAAAAQIABUQABWxhYmVsRAAGd2VpZ2h0TAAFZ2ZlYXN0ABBMamF2YS91dGlsL0xpc3Q7TAAFaWZlYXNxAH4AAUwABXVmZWFzcQB+AAF4cgBCb3JnLmdyb3VwbGVucy5zYW1hbnRoYS5tb2RlbGVyLmZlYXR1cml6ZXIuQWJzdHJhY3RMZWFybmluZ0luc3RhbmNlHJRin5RSUkgCAAFMAAVncm91cHQAEkxqYXZhL2xhbmcvU3RyaW5nO3hwcAAAAAAAAAAAP/AAAAAAAABzcgATamF2YS51dGlsLkFycmF5TGlzdHiB0h2Zx2GdAwABSQAEc2l6ZXhwAAAAA3cEAAAAA3NyADFvcmcuZ3JvdXBsZW5zLnNhbWFudGhhLm1vZGVsZXIuZmVhdHVyaXplci5GZWF0dXJlqBau7Pp4F/YCAAJJAAVpbmRleEQABXZhbHVleHAAAAAAP/AAAAAAAABzcQB+AAcAAAABP/AAAAAAAABzcQB+AAcAAACwP/AAAAAAAAB4c3EAfgAFAAAAAXcEAAAAAXNxAH4ABwAAAK8/8AAAAAAAAHhzcQB+AAUAAAABdwQAAAABc3EAfgAHAAAAAD/wAAAAAAAAeA==\"},{\"score\":2.6024366789303164,\"attributes\":{\"support\":450.0,\"movieId\":\"6377\",\"userId\":296986},\"instance\":\"rO0ABXNyADxvcmcuZ3JvdXBsZW5zLnNhbWFudGhhLm1vZGVsZXIuc3ZkZmVhdHVyZS5TVkRGZWF0dXJlSW5zdGFuY2UAAAAAAAAAAQIABUQABWxhYmVsRAAGd2VpZ2h0TAAFZ2ZlYXN0ABBMamF2YS91dGlsL0xpc3Q7TAAFaWZlYXNxAH4AAUwABXVmZWFzcQB+AAF4cgBCb3JnLmdyb3VwbGVucy5zYW1hbnRoYS5tb2RlbGVyLmZlYXR1cml6ZXIuQWJzdHJhY3RMZWFybmluZ0luc3RhbmNlHJRin5RSUkgCAAFMAAVncm91cHQAEkxqYXZhL2xhbmcvU3RyaW5nO3hwcAAAAAAAAAAAP/AAAAAAAABzcgATamF2YS51dGlsLkFycmF5TGlzdHiB0h2Zx2GdAwABSQAEc2l6ZXhwAAAAA3cEAAAAA3NyADFvcmcuZ3JvdXBsZW5zLnNhbWFudGhhLm1vZGVsZXIuZmVhdHVyaXplci5GZWF0dXJlqBau7Pp4F/YCAAJJAAVpbmRleEQABXZhbHVleHAAAAAAP/AAAAAAAABzcQB+AAcAAAABP/AAAAAAAABzcQB+AAcAAAMqP/AAAAAAAAB4c3EAfgAFAAAAAXcEAAAAAXNxAH4ABwAAAyc/8AAAAAAAAHhzcQB+AAUAAAABdwQAAAABc3EAfgAHAAAAAD/wAAAAAAAAeA==\"},{\"score\":2.598167630704506,\"attributes\":{\"support\":466.0,\"movieId\":\"152081\",\"userId\":296986},\"instance\":\"rO0ABXNyADxvcmcuZ3JvdXBsZW5zLnNhbWFudGhhLm1vZGVsZXIuc3ZkZmVhdHVyZS5TVkRGZWF0dXJlSW5zdGFuY2UAAAAAAAAAAQIABUQABWxhYmVsRAAGd2VpZ2h0TAAFZ2ZlYXN0ABBMamF2YS91dGlsL0xpc3Q7TAAFaWZlYXNxAH4AAUwABXVmZWFzcQB+AAF4cgBCb3JnLmdyb3VwbGVucy5zYW1hbnRoYS5tb2RlbGVyLmZlYXR1cml6ZXIuQWJzdHJhY3RMZWFybmluZ0luc3RhbmNlHJRin5RSUkgCAAFMAAVncm91cHQAEkxqYXZhL2xhbmcvU3RyaW5nO3hwcAAAAAAAAAAAP/AAAAAAAABzcgATamF2YS51dGlsLkFycmF5TGlzdHiB0h2Zx2GdAwABSQAEc2l6ZXhwAAAAA3cEAAAAA3NyADFvcmcuZ3JvdXBsZW5zLnNhbWFudGhhLm1vZGVsZXIuZmVhdHVyaXplci5GZWF0dXJlqBau7Pp4F/YCAAJJAAVpbmRleEQABXZhbHVleHAAAAAAP/AAAAAAAABzcQB+AAcAAAABP/AAAAAAAABzcQB+AAcAAABpP/AAAAAAAAB4c3EAfgAFAAAAAXcEAAAAAXNxAH4ABwAAAGg/8AAAAAAAAHhzcQB+AAUAAAABdwQAAAABc3EAfgAHAAAAAD/wAAAAAAAAeA==\"},{\"score\":2.5970393884986636,\"attributes\":{\"support\":370.0,\"movieId\":\"1270\",\"userId\":296986},\"instance\":\"rO0ABXNyADxvcmcuZ3JvdXBsZW5zLnNhbWFudGhhLm1vZGVsZXIuc3ZkZmVhdHVyZS5TVkRGZWF0dXJlSW5zdGFuY2UAAAAAAAAAAQIABUQABWxhYmVsRAAGd2VpZ2h0TAAFZ2ZlYXN0ABBMamF2YS91dGlsL0xpc3Q7TAAFaWZlYXNxAH4AAUwABXVmZWFzcQB+AAF4cgBCb3JnLmdyb3VwbGVucy5zYW1hbnRoYS5tb2RlbGVyLmZlYXR1cml6ZXIuQWJzdHJhY3RMZWFybmluZ0luc3RhbmNlHJRin5RSUkgCAAFMAAVncm91cHQAEkxqYXZhL2xhbmcvU3RyaW5nO3hwcAAAAAAAAAAAP/AAAAAAAABzcgATamF2YS51dGlsLkFycmF5TGlzdHiB0h2Zx2GdAwABSQAEc2l6ZXhwAAAAA3cEAAAAA3NyADFvcmcuZ3JvdXBsZW5zLnNhbWFudGhhLm1vZGVsZXIuZmVhdHVyaXplci5GZWF0dXJlqBau7Pp4F/YCAAJJAAVpbmRleEQABXZhbHVleHAAAAAAP/AAAAAAAABzcQB+AAcAAAABP/AAAAAAAABzcQB+AAcAAACvP/AAAAAAAAB4c3EAfgAFAAAAAXcEAAAAAXNxAH4ABwAAAK4/8AAAAAAAAHhzcQB+AAUAAAABdwQAAAABc3EAfgAHAAAAAD/wAAAAAAAAeA==\"},{\"score\":2.5945912452320283,\"attributes\":{\"support\":266.0,\"movieId\":\"1258\",\"userId\":296986},\"instance\":\"rO0ABXNyADxvcmcuZ3JvdXBsZW5zLnNhbWFudGhhLm1vZGVsZXIuc3ZkZmVhdHVyZS5TVkRGZWF0dXJlSW5zdGFuY2UAAAAAAAAAAQIABUQABWxhYmVsRAAGd2VpZ2h0TAAFZ2ZlYXN0ABBMamF2YS91dGlsL0xpc3Q7TAAFaWZlYXNxAH4AAUwABXVmZWFzcQB+AAF4cgBCb3JnLmdyb3VwbGVucy5zYW1hbnRoYS5tb2RlbGVyLmZlYXR1cml6ZXIuQWJzdHJhY3RMZWFybmluZ0luc3RhbmNlHJRin5RSUkgCAAFMAAVncm91cHQAEkxqYXZhL2xhbmcvU3RyaW5nO3hwcAAAAAAAAAAAP/AAAAAAAABzcgATamF2YS51dGlsLkFycmF5TGlzdHiB0h2Zx2GdAwABSQAEc2l6ZXhwAAAAA3cEAAAAA3NyADFvcmcuZ3JvdXBsZW5zLnNhbWFudGhhLm1vZGVsZXIuZmVhdHVyaXplci5GZWF0dXJlqBau7Pp4F/YCAAJJAAVpbmRleEQABXZhbHVleHAAAAAAP/AAAAAAAABzcQB+AAcAAAABP/AAAAAAAABzcQB+AAcAAACtP/AAAAAAAAB4c3EAfgAFAAAAAXcEAAAAAXNxAH4ABwAAAKw/8AAAAAAAAHhzcQB+AAUAAAABdwQAAAABc3EAfgAHAAAAAD/wAAAAAAAAeA==\"},{\"score\":2.594405873354495,\"attributes\":{\"support\":346.0,\"movieId\":\"1089\",\"userId\":296986},\"instance\":\"rO0ABXNyADxvcmcuZ3JvdXBsZW5zLnNhbWFudGhhLm1vZGVsZXIuc3ZkZmVhdHVyZS5TVkRGZWF0dXJlSW5zdGFuY2UAAAAAAAAAAQIABUQABWxhYmVsRAAGd2VpZ2h0TAAFZ2ZlYXN0ABBMamF2YS91dGlsL0xpc3Q7TAAFaWZlYXNxAH4AAUwABXVmZWFzcQB+AAF4cgBCb3JnLmdyb3VwbGVucy5zYW1hbnRoYS5tb2RlbGVyLmZlYXR1cml6ZXIuQWJzdHJhY3RMZWFybmluZ0luc3RhbmNlHJRin5RSUkgCAAFMAAVncm91cHQAEkxqYXZhL2xhbmcvU3RyaW5nO3hwcAAAAAAAAAAAP/AAAAAAAABzcgATamF2YS51dGlsLkFycmF5TGlzdHiB0h2Zx2GdAwABSQAEc2l6ZXhwAAAAA3cEAAAAA3NyADFvcmcuZ3JvdXBsZW5zLnNhbWFudGhhLm1vZGVsZXIuZmVhdHVyaXplci5GZWF0dXJlqBau7Pp4F/YCAAJJAAVpbmRleEQABXZhbHVleHAAAAAAP/AAAAAAAABzcQB+AAcAAAABP/AAAAAAAABzcQB+AAcAAADGP/AAAAAAAAB4c3EAfgAFAAAAAXcEAAAAAXNxAH4ABwAAAMU/8AAAAAAAAHhzcQB+AAUAAAABdwQAAAABc3EAfgAHAAAAAD/wAAAAAAAAeA==\"}]},\"configuration\":{\"retriever\":\"FeatureSupportMovieRetriever\",\"name\":\"ml-demo-svdfea-recommender\",\"configClass\":\"org.grouplens.samantha.server.recommender.StandardRecommenderConfig\",\"ranker\":\"ml-demo-svdfea-ranker\"},\"engine\":\"movielens-demo\"}}'"
      ]
     },
     "execution_count": 165,
     "metadata": {},
     "output_type": "execute_result"
    }
   ],
   "source": [
    "data = {\n",
    "    'userId': 296986,\n",
    "    'recommender': 'ml-demo-svdfea-recommender',\n",
    "}\n",
    "\"\"\"\n",
    "tag/mark: \"configuration\":{\"retriever\":\"FeatureSupportMovieRetriever\",\"name\":\"ml-demo-svdfea-recommender\",\"configClass\":\"org.grouplens.samantha.server.recommender.StandardRecommenderConfig\",\"ranker\":\"ml-demo-svdfea-ranker\"},\"engine\":\"movielens-demo\"}\n",
    "instance: {\"score\":2.3729079120321748,\"attributes\":{\"support\":266.0,\"movieId\":\"1258\"},\"instance\":\"rO0ABXNyADxvcmcuZ3JvdXBsZW5zLnNhbWFudGhhLm1vZGVsZXIuc3ZkZmVhdHVyZS5TVkRGZWF0dXJlSW5zdGFuY2UAAAAAAAAAAQIABUQABWxhYmVsRAAGd2VpZ2h0TAAFZ2ZlYXN0ABBMamF2YS91dGlsL0xpc3Q7TAAFaWZlYXNxAH4AAUwABXVmZWFzcQB+AAF4cgBCb3JnLmdyb3VwbGVucy5zYW1hbnRoYS5tb2RlbGVyLmZlYXR1cml6ZXIuQWJzdHJhY3RMZWFybmluZ0luc3RhbmNlHJRin5RSUkgCAAFMAAVncm91cHQAEkxqYXZhL2xhbmcvU3RyaW5nO3hwcAAAAAAAAAAAP/AAAAAAAABzcgATamF2YS51dGlsLkFycmF5TGlzdHiB0h2Zx2GdAwABSQAEc2l6ZXhwAAAAAncEAAAAAnNyADFvcmcuZ3JvdXBsZW5zLnNhbWFudGhhLm1vZGVsZXIuZmVhdHVyaXplci5GZWF0dXJlqBau7Pp4F/YCAAJJAAVpbmRleEQABXZhbHVleHAAAAAAP/AAAAAAAABzcQB+AAcAAACqP/AAAAAAAAB4c3EAfgAFAAAAAXcEAAAAAXNxAH4ABwAAAKY/8AAAAAAAAHhzcQB+AAUAAAAAdwQAAAAAeA==\"}]}\n",
    "\"\"\"\n",
    "req.post(host + 'recommendation', json=data).content"
   ]
  },
  {
   "cell_type": "code",
   "execution_count": null,
   "metadata": {
    "collapsed": true
   },
   "outputs": [],
   "source": []
  }
 ],
 "metadata": {
  "kernelspec": {
   "display_name": "Python [Root]",
   "language": "python",
   "name": "Python [Root]"
  },
  "language_info": {
   "codemirror_mode": {
    "name": "ipython",
    "version": 2
   },
   "file_extension": ".py",
   "mimetype": "text/x-python",
   "name": "python",
   "nbconvert_exporter": "python",
   "pygments_lexer": "ipython2",
   "version": "2.7.12"
  }
 },
 "nbformat": 4,
 "nbformat_minor": 0
}
