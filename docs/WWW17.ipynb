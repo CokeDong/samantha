{
 "cells": [
  {
   "cell_type": "code",
   "execution_count": null,
   "metadata": {
    "collapsed": true
   },
   "outputs": [],
   "source": [
    "#Make sure that you've prepared according to docs/README.md\n",
    "#This notebook shows how to interact with Samantha server"
   ]
  },
  {
   "cell_type": "code",
   "execution_count": 5,
   "metadata": {
    "collapsed": true
   },
   "outputs": [],
   "source": [
    "import requests as req\n",
    "import pandas as pd\n",
    "import numpy as np\n",
    "import time\n",
    "import datetime\n",
    "import random\n",
    "import json\n",
    "host = 'http://localhost:9100/redhat/'\n",
    "dataset = 'rh'\n",
    "\n",
    "#Change this to your data path of RedHat dataset: https://www.kaggle.com/c/predicting-red-hat-business-value\n",
    "#You need to first randomly split the dataset into five folds: train-x.tsv, valid-x.tsv, test-x.tsv (x=0 to 4)\n",
    "path = '/opt/kaggle/redhat/'"
   ]
  },
  {
   "cell_type": "code",
   "execution_count": 36,
   "metadata": {
    "collapsed": true
   },
   "outputs": [],
   "source": [
    "#This is a typical example of how to interact with models in Samantha server\n",
    "data = {\n",
    "    'modelName': 'cate-rh-model', #the name of the model in the engine configuration file\n",
    "    'modelOperation': 'RESET', #could be RESET/BUILD/UPDATE/LOAD/DUMP\n",
    "    'predictor': 'cate-rh' #the name of the predictor in the engine configuration file\n",
    "}\n",
    "recurl = host + 'predictor/model'\n",
    "x = req.post(recurl, json=data)"
   ]
  },
  {
   "cell_type": "code",
   "execution_count": null,
   "metadata": {
    "collapsed": false
   },
   "outputs": [],
   "source": [
    "todos = ['rt', 'xgboost', 'fm', 'svdfeature', #single model\n",
    "         'catnt', 'catfm', 'cate', #gbcent component\n",
    "         'fm-leaf', 'svdfeature-leaf', 'xgboost-embedding', #ensemble of GBDT and matrix factorization\n",
    "         'gbcent-cate', 'gbcent-catfm']  #gbcent\n",
    "\n",
    "resultfile = path + 'results-rh.json'\n",
    "fout = open(resultfile, 'a')\n",
    "\n",
    "timefile = path + 'results-rh-time.tsv'\n",
    "ftime = open(timefile, 'a')\n",
    "\n",
    "for hit in range(0, 5):\n",
    "    for what in todos:\n",
    "        predictor = what + '-' + dataset\n",
    "        model = predictor + '-model'\n",
    "        begin = time.time()\n",
    "        #training\n",
    "        data = {\n",
    "            'modelName': model,\n",
    "            'modelOperation': 'BUILD',\n",
    "            'predictor': predictor,\n",
    "            'learningDaoConfig': {\n",
    "                'filePath': path + 'mtrain-' + str(hit) + '.tsv',\n",
    "                'separator': '\\t',\n",
    "                'entityDaoName': 'CSVFileEntityDAO'\n",
    "            },\n",
    "            'validationDaoConfig': {\n",
    "                'filePath': path + 'mvalid-' + str(hit) + '.tsv',\n",
    "                'separator': '\\t',\n",
    "                'entityDaoName': 'CSVFileEntityDAO'\n",
    "            }\n",
    "        }\n",
    "        recurl = host + 'predictor/model'\n",
    "        x = req.post(recurl, json=data)\n",
    "        end = time.time()\n",
    "        ftime.write('\\t'.join([str(hit), predictor, str(end - begin)]) + '\\n')\n",
    "\n",
    "        #evaluating AUC\n",
    "        data = {\n",
    "            'predictor': predictor,\n",
    "            'evaluator': 'BinaryClassificationEvaluator',\n",
    "            'evaluatorDaoConfig': {\n",
    "                'filePath': path + 'mtest-' + str(hit) + '.tsv',\n",
    "                'separator': '\\t',\n",
    "                'entityDaoName': 'CSVFileEntityDAO'\n",
    "            }\n",
    "        }\n",
    "        recurl = host + 'evaluate'\n",
    "        AUC = req.post(recurl, json=data).content\n",
    "        fout.write(AUC + '\\n')\n",
    "\n",
    "    data = {\n",
    "        'modelName': 'cate-rh-model',\n",
    "        'modelOperation': 'RESET',\n",
    "        'predictor': 'cate-rh'\n",
    "    }\n",
    "    recurl = host + 'predictor/model'\n",
    "    x = req.post(recurl, json=data)\n",
    "\n",
    "fout.close()\n",
    "ftime.close()"
   ]
  },
  {
   "cell_type": "code",
   "execution_count": 24,
   "metadata": {
    "collapsed": true
   },
   "outputs": [],
   "source": [
    "fout.close()\n",
    "ftime.close()"
   ]
  },
  {
   "cell_type": "code",
   "execution_count": null,
   "metadata": {
    "collapsed": true
   },
   "outputs": [],
   "source": []
  }
 ],
 "metadata": {
  "kernelspec": {
   "display_name": "Python [Root]",
   "language": "python",
   "name": "Python [Root]"
  },
  "language_info": {
   "codemirror_mode": {
    "name": "ipython",
    "version": 2
   },
   "file_extension": ".py",
   "mimetype": "text/x-python",
   "name": "python",
   "nbconvert_exporter": "python",
   "pygments_lexer": "ipython2",
   "version": "2.7.12"
  }
 },
 "nbformat": 4,
 "nbformat_minor": 0
}
